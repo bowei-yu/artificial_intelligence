{
 "cells": [
  {
   "cell_type": "markdown",
   "metadata": {
    "slideshow": {
     "slide_type": "slide"
    }
   },
   "source": [
    "<h1>CS4618: Artificial Intelligence I</h1>\n",
    "<h1>Regression</h1>\n",
    "<h2>\n",
    "    Derek Bridge<br>\n",
    "    School of Computer Science and Information Technology<br>\n",
    "    University College Cork\n",
    "</h2>"
   ]
  },
  {
   "cell_type": "markdown",
   "metadata": {
    "slideshow": {
     "slide_type": "skip"
    }
   },
   "source": [
    "<h1>Initialization</h1>\n",
    "\n",
    "$\\newcommand{\\Set}[1]{\\{#1\\}}$ \n",
    "$\\newcommand{\\Tuple}[1]{\\langle#1\\rangle}$ \n",
    "$\\newcommand{\\v}[1]{\\pmb{#1}}$ \n",
    "$\\newcommand{\\cv}[1]{\\begin{bmatrix}#1\\end{bmatrix}}$ \n",
    "$\\newcommand{\\rv}[1]{[#1]}$ \n",
    "$\\DeclareMathOperator{\\argmax}{arg\\,max}$ \n",
    "$\\DeclareMathOperator{\\argmin}{arg\\,min}$ \n",
    "$\\DeclareMathOperator{\\dist}{dist}$\n",
    "$\\DeclareMathOperator{\\abs}{abs}$"
   ]
  },
  {
   "cell_type": "code",
   "execution_count": 1,
   "metadata": {
    "slideshow": {
     "slide_type": "skip"
    }
   },
   "outputs": [],
   "source": [
    "%reload_ext autoreload\n",
    "%autoreload 2\n",
    "%matplotlib inline"
   ]
  },
  {
   "cell_type": "code",
   "execution_count": 2,
   "metadata": {},
   "outputs": [],
   "source": [
    "import pandas as pd\n",
    "import numpy as np\n",
    "import matplotlib.pyplot as plt\n",
    "from sklearn.preprocessing import StandardScaler\n",
    "from sklearn.linear_model import LinearRegression\n",
    "from sklearn.neighbors import KNeighborsRegressor"
   ]
  },
  {
   "cell_type": "markdown",
   "metadata": {
    "slideshow": {
     "slide_type": "slide"
    }
   },
   "source": [
    "<h1>Regression</h1>\n",
    "<ul>\n",
    "    <li>We want to create programs that make <b>predictions</b>.</li>\n",
    "    <li>Specifically in this part of the module we will consider predicting continuous <em>numeric values</em>.</li>\n",
    "    <li>Prediction of numeric values is called <b>regression</b>:\n",
    "        <ul>\n",
    "            <li>Given a vector $\\v{x}$ of feature values that describes some object, we predict a <b>target value</b>, which is numeric (real-valued).\n",
    "            </li>\n",
    "            <li>E.g.given a vector of feature values that describe a house, predict the selling price of the house.</li>\n",
    "        </ul>\n",
    "    </li>\n",
    "    <li>(In everyday use, prediction is about the future; but we use the word more generally in AI.)</li>\n",
    "</ul>"
   ]
  },
  {
   "cell_type": "markdown",
   "metadata": {
    "slideshow": {
     "slide_type": "slide"
    }
   },
   "source": [
    "<h1>Notation</h1>\n",
    "<ul>\n",
    "    <li>We continue to use $\\v{x}$ for an object.</li>\n",
    "    <li>We will use $y$ for the target value.\n",
    "    </li>\n",
    "    <li>Actually, we will be even more precise:\n",
    "        <ul>\n",
    "            <li>We will use $y$ for the <em>actual</em> target value.</li>\n",
    "            <li>We will use $\\hat{y}$ for a <em>predicted</em> target value.</li>\n",
    "        </ul>\n",
    "    </li>\n",
    "</ul>"
   ]
  },
  {
   "cell_type": "markdown",
   "metadata": {
    "slideshow": {
     "slide_type": "slide"
    }
   },
   "source": [
    "<h1>Datasets of labeled examples</h1>\n",
    "<ul>\n",
    "    <li>We don't want to write a program to make these predictions.</li>\n",
    "    <li>We want to learn how to make them.</li>\n",
    "    <li>To learn how to make predictions, we need a dataset.\n",
    "        <ul>\n",
    "            <li>As before: $m$ examples, $n$ features</li>\n",
    "        </ul>\n",
    "        But we need a different kind of dataset: we need a dataset of <b>labeled examples</b>.\n",
    "    </li>\n",
    "    <li>A <b>labeled example</b> is a <em>pair</em>, comprising a vector of feature values and the target value\n",
    "        $$\\Tuple{\\v{x}, y}$$\n",
    "    </li>\n",
    "    <li>So a <b>labeled dataset</b> looks like this: \n",
    "        $$\\Set{\\Tuple{\\v{x}^{(1)}, y^{(1)}}, \\Tuple{\\v{x}^{(2)}, y^{(2)}}, \\ldots, \n",
    "        \\Tuple{\\v{x}^{(m)}, y^{(m)}}}$$\n",
    "        <ul>\n",
    "             <li>E.g. the features are floor area, bedrooms and bathrooms; the target is the selling price\n",
    "                (thousands of &euro;)\n",
    "                 $$\\Set{\\Tuple{\\cv{92.9\\\\3\\\\2}, 175},\\,\\, \\Tuple{\\cv{171.9\\\\4\\\\3}, 435},\\,\\, \\Tuple{\\cv{79\\\\3\\\\1}, 85}\\cdots}$$\n",
    "             </li>\n",
    "         </ul>\n",
    "     </li>\n",
    "    <li>From a labeled dataset, we can construct a matrix $\\v{X}$ <em>and</em> a vector $\\v{y}$ as follows:\n",
    "        $$\\v{X} = \\begin{bmatrix}\n",
    "              \\v{x}_1^{(1)} & \\v{x}_2^{(1)} & \\ldots & \\v{x}_n^{(1)} \\\\\n",
    "              \\v{x}_1^{(2)} & \\v{x}_2^{(2)} & \\ldots & \\v{x}_n^{(2)} \\\\\n",
    "              \\vdots        & \\vdots        & \\vdots & \\vdots \\\\\n",
    "              \\v{x}_1^{(m)} & \\v{x}_2^{(m)} & \\ldots & \\v{x}_n^{(m)} \\\\\n",
    "              \\end{bmatrix}\\,\\,\\,\\,\\,\n",
    "          \\v{y} = \\cv{y^{(1)}\\\\ y^{(2)}\\\\ \\vdots\\\\ y^{(m)}}\n",
    "        $$\n",
    "        <ul>\n",
    "            <li>In the matrix $\\v{X}$, rows are examples, columns are features.</li>\n",
    "            <li>The vector $\\v{y}$ gives the corresponding target values.</li>\n",
    "            <li>E.g\n",
    "                $$\\v{X} = \n",
    "                    \\begin{bmatrix}\n",
    "                        92.9 & 3 & 2 \\\\\n",
    "                        171.9 & 4 & 3 \\\\\n",
    "                        79 & 3 & 1\n",
    "                    \\end{bmatrix}\\,\\,\\,\\,\\,\n",
    "                  \\v{y} = \\cv{175\\\\ 435\\\\ 85}\n",
    "                $$\n",
    "            </li>\n",
    "        </ul>\n",
    "    </li>\n",
    "</ul>"
   ]
  },
  {
   "cell_type": "markdown",
   "metadata": {},
   "source": [
    "<ul>\n",
    "    <li>Let's read our Cork property prices dataset into a pandas <code>DataFrame</code>.</li>\n",
    "    <li>Then, we'll extract $\\v{X}$ and $\\v{y}$ and convert them to numpy arrays.\n",
    "</ul>"
   ]
  },
  {
   "cell_type": "code",
   "execution_count": 3,
   "metadata": {},
   "outputs": [],
   "source": [
    "# Use pandas to read the CSV file into a DataFrame\n",
    "df = pd.read_csv(\"../datasets/dataset_corkA.csv\")\n",
    "\n",
    "# The features we want to select\n",
    "features = [\"flarea\", \"bdrms\", \"bthrms\"]\n",
    "\n",
    "# Extract these features and convert to numpy 2D array\n",
    "X = df[features].values\n",
    "\n",
    "# The target values, converted to a numpy 1D array\n",
    "y = df[\"price\"].values"
   ]
  },
  {
   "cell_type": "markdown",
   "metadata": {},
   "source": [
    "<h1>Supervised Learning</h1>\n",
    "<ul>\n",
    "    <li>Learning from a <em>labeled dataset</em> is called <b>supervised learning</b>.</li>\n",
    "    <li>The goal is to <b>generalize</b> from the labeled dataset so that we can predict target values\n",
    "        when given the feature values of objects that were not in the labeled dataset (<b>unseen examples</b>).\n",
    "    </li>\n",
    "    <li>One way to categorize the algorithms for doing this is by how they generalize:\n",
    "        <ul>\n",
    "            <li><b>instance-based learning</b>; and</li>\n",
    "            <li><b>model-based learning</b>.</li>\n",
    "        </ul>\n",
    "    </li>\n",
    "</ul>"
   ]
  },
  {
   "cell_type": "markdown",
   "metadata": {
    "slideshow": {
     "slide_type": "slide"
    }
   },
   "source": [
    "<h1>Instance-Based Learning</h1>\n",
    "<ul>\n",
    "    <li>Instance-based learners learn by heart: they simply store the examples in the labeled dataset.</li>\n",
    "    <li>The way they generalize is using similarity (or distance): given an unseen example $\\v{x}$, \n",
    "        they predict $\\hat{y}$ from the $y$-values of examples in the dataset that are similar to $\\v{x}$.\n",
    "    </li>\n",
    "    <li>Let's look at two concrete examples of this: <b>nearest-neighbour regression</b> and \n",
    "        $k$-<b>nearest-neighbours regression</b>.\n",
    "    </li>\n",
    "</ul>"
   ]
  },
  {
   "cell_type": "markdown",
   "metadata": {},
   "source": [
    "<h2>Nearest-neighbour regression</h2>\n",
    "<ul>\n",
    "    <li>To predict the target value $\\hat{y}$ for unseen example $\\v{x}$,\n",
    "        <ul>\n",
    "            <li>we find the example $\\Tuple{\\v{x}', y'}$ in the labeled dataset whose distance from $\\v{x}$ is \n",
    "                smallest; and\n",
    "             </li>\n",
    "             <li>we use $y'$ as our prediction.\n",
    "             </li>\n",
    "         </ul>\n",
    "    </li>\n",
    "    <li>We also refer to this as a <b>1-nearest-neighbour regressor</b> or\n",
    "        just 1NN or kNN for $k=1$.\n",
    "    </li>\n",
    "    <li>We can easily implement this using code from the previous lecture.</li>\n",
    "</ul>"
   ]
  },
  {
   "cell_type": "code",
   "execution_count": 4,
   "metadata": {},
   "outputs": [],
   "source": [
    "def euc(x, xprime):\n",
    "    return np.sqrt(np.sum((x - xprime)**2))\n",
    "\n",
    "def nn_regressor(x, X, y):\n",
    "    # Find which example in X is the most similar to x\n",
    "    index = np.argmin([euc(x, xprime) for xprime in X])\n",
    "    # Return the corresponding target value from y\n",
    "    return y[index]"
   ]
  },
  {
   "cell_type": "code",
   "execution_count": 5,
   "metadata": {},
   "outputs": [
    {
     "data": {
      "text/plain": [
       "[295, 130]"
      ]
     },
     "execution_count": 5,
     "metadata": {},
     "output_type": "execute_result"
    }
   ],
   "source": [
    "# Standardization of X\n",
    "scaler = StandardScaler()\n",
    "scaler.fit(X)\n",
    "X_scaled = scaler.transform(X)\n",
    "\n",
    "# Standardization of our houses\n",
    "our_houses = np.array([[126.0, 3, 1], [107.0, 2, 1]])\n",
    "our_houses_scaled = scaler.transform(our_houses)\n",
    "\n",
    "\n",
    "# Prediction\n",
    "[nn_regressor(x_scaled, X_scaled, y) for x_scaled in our_houses_scaled]"
   ]
  },
  {
   "cell_type": "markdown",
   "metadata": {},
   "source": [
    "<h2>k-nearest-neighbours regression</h2>\n",
    "<ul>\n",
    "    <li>The problems with 1NN is that it can be incorrectly influenced by noisy examples:\n",
    "        <ul>\n",
    "            <li>If there are examples in the labeled dataset where we have incorrectly recorded the feature values,\n",
    "                then we may not find the best example from which to make our prediction.\n",
    "            </li>\n",
    "            <li>If there are examples in the labeled dataset where we have incorrectly recorded the target value,\n",
    "                then these will result in incorrect predictions.\n",
    "            </li>\n",
    "        </ul>\n",
    "    </li>\n",
    "    <li>To reduce the influence of noisy examples, we use more than one neighbour:\n",
    "        <ul>\n",
    "            <li>we find $k$ examples whose distance from unseen example $\\v{x}$ is smallest; and</li>\n",
    "            <li>we use the mean of their $y$-values as our prediction.\n",
    "            </li>\n",
    "        </ul>\n",
    "    </li>\n",
    "    <li>We abbreviate the name of this to kNN, e.g. 3NN is where we use 3 nearest-neighbours.</li>\n",
    "    <li>It too is easily implemented.</li>\n",
    "</ul>"
   ]
  },
  {
   "cell_type": "code",
   "execution_count": 6,
   "metadata": {},
   "outputs": [],
   "source": [
    "def knn_regressor(x, X, y, k=3):\n",
    "    # Find which k examples in X are the most similar to x\n",
    "    indexes = np.argsort([euc(x, xprime) for xprime in X])[:k]\n",
    "    # Return the mean of the corresponding target values from y\n",
    "    return y[indexes].mean()"
   ]
  },
  {
   "cell_type": "code",
   "execution_count": 7,
   "metadata": {},
   "outputs": [
    {
     "data": {
      "text/plain": [
       "[313.3333333333333, 241.33333333333334]"
      ]
     },
     "execution_count": 7,
     "metadata": {},
     "output_type": "execute_result"
    }
   ],
   "source": [
    "# Prediction (with k=3, the default)\n",
    "[knn_regressor(x_scaled, X_scaled, y) for x_scaled in our_houses_scaled]"
   ]
  },
  {
   "cell_type": "markdown",
   "metadata": {},
   "source": [
    "<ul>\n",
    "    <li>There are many variants of kNN.\n",
    "        <ul>\n",
    "            <li>A common one, for example, is to use a <b>weighted average</b> of the neighbour's target values.</li>\n",
    "            <li>The weights could be the inverse of the distances so that more similar examples count for more.</li>\n",
    "        </ul>\n",
    "    </li>\n",
    "    <li>We don't need to implement them for ourselves: scikit-learn has a class <code>KNeighborsRegressor</code>.\n",
    "    </li>\n",
    "</ul>"
   ]
  },
  {
   "cell_type": "markdown",
   "metadata": {
    "slideshow": {
     "slide_type": "slide"
    }
   },
   "source": [
    "<h1>Model-Based Learning</h1>\n",
    "<ul>\n",
    "    <li>To get an intuition for what we mean by the word <b>model</b>, we'll imagine the following.</li>\n",
    "    <li>We want to build a system that can predict the selling prices of houses in Cork.</li>\n",
    "    <li>We don't know how to do it, so we ask Ann!\n",
    "        <ul>\n",
    "            <li>She's an auctioneer &mdash; an expert at predicting Cork city house prices.</li>\n",
    "            <li>But we don't ask her to predict your house price or mine.</li>\n",
    "            <li>We ask her for a <em>general</em> method for predicting Cork house prices.</li>\n",
    "        </ul>\n",
    "    </li>\n",
    "    <li>She tells us that her rule-of-thumb is that prices start at 25k&euro; and increase by 1.5k&euro; for every \n",
    "        extra square metre of floor area:\n",
    "        $$\\hat{y} = 25 + 1.5\\mathit{flarea}$$\n",
    "        <ul>\n",
    "            <li>So, she predicts your house (floor area of 126 square metres) will sell for \n",
    "                $\\hat{y} = 25 + 1.5 \\times 126 = 214$k&euro;\n",
    "            </li>\n",
    "        </ul>\n",
    "    </li>\n",
    "    <li>Ann has given us a <b>model</b>.\n",
    "        <ul>\n",
    "            <li>\n",
    "                In very abstract terms, a model is an approximation of some part of reality that enables us to make \n",
    "                predictions about that reality.\n",
    "            </li>\n",
    "            <li>\n",
    "                In very concrete terms for this module, a model is a formula (or function or procedure or set of \n",
    "                rules&hellip;) that expresses the relationship between an object's features and the thing that is\n",
    "                being predicted (in regression, the target value).\n",
    "            </li>\n",
    "        </ul>\n",
    "    </li>\n",
    "    <li>(It so happens that Ann's is a <b>linear model</b> &mdash; see next lecture.)</li>\n",
    "</ul>"
   ]
  },
  {
   "cell_type": "markdown",
   "metadata": {},
   "source": [
    "<h2>Implementing and visualizing Ann's model</h2>"
   ]
  },
  {
   "cell_type": "code",
   "execution_count": 8,
   "metadata": {},
   "outputs": [],
   "source": [
    "# Ann's model\n",
    "def h_ann(flarea):\n",
    "    return 25 + 1.5 * flarea"
   ]
  },
  {
   "cell_type": "code",
   "execution_count": 9,
   "metadata": {},
   "outputs": [
    {
     "data": {
      "text/plain": [
       "214.0"
      ]
     },
     "execution_count": 9,
     "metadata": {},
     "output_type": "execute_result"
    }
   ],
   "source": [
    "# Predicting the selling price of your house\n",
    "h_ann(126)"
   ]
  },
  {
   "cell_type": "code",
   "execution_count": 10,
   "metadata": {},
   "outputs": [
    {
     "data": {
      "image/png": "[encoded data removed]",
      "text/plain": [
       "<Figure size 432x288 with 1 Axes>"
      ]
     },
     "metadata": {
      "needs_background": "light"
     },
     "output_type": "display_data"
    }
   ],
   "source": [
    "# Plotting the predictions made by Ann's model\n",
    "fig = plt.figure()\n",
    "plt.title(\"Ann's model\")\n",
    "xvals = np.linspace(0, 500, 2)\n",
    "plt.plot(xvals, h_ann(xvals))\n",
    "plt.xlabel(\"Floor area (sq metres)\")\n",
    "plt.xlim(0, 500)\n",
    "plt.ylabel(\"Price (000 euros)\")\n",
    "plt.ylim(0, 1000)\n",
    "plt.show()"
   ]
  },
  {
   "cell_type": "markdown",
   "metadata": {
    "slideshow": {
     "slide_type": "slide"
    }
   },
   "source": [
    "<ul>\n",
    "    <li>Pre-Covid, I met this guy called Dev in a pub. He isn't a Cork auctioneer but he's really opinionated.</li>\n",
    "    <li>He gave me a different model:\n",
    "        $$\\hat{y} = 20 + 50\\mathit{bdrms} + 10\\mathit{bdrms}^2$$\n",
    "    </li>\n",
    "    <li>(Dev's model is not a linear model &mdash; it is a non-linear model. In fact, it's a quadratic model.)</li>\n",
    "</ul>"
   ]
  },
  {
   "cell_type": "markdown",
   "metadata": {},
   "source": [
    "<h2>Implementing and visualizing Dev's model</h2>"
   ]
  },
  {
   "cell_type": "code",
   "execution_count": 11,
   "metadata": {},
   "outputs": [],
   "source": [
    "# Dev's model\n",
    "def h_dev(bdrms):\n",
    "    return 20 + 50 * bdrms + 10 * bdrms ** 2"
   ]
  },
  {
   "cell_type": "code",
   "execution_count": 12,
   "metadata": {},
   "outputs": [
    {
     "data": {
      "text/plain": [
       "260"
      ]
     },
     "execution_count": 12,
     "metadata": {},
     "output_type": "execute_result"
    }
   ],
   "source": [
    "# Predicting the selling price of your house\n",
    "h_dev(3)"
   ]
  },
  {
   "cell_type": "code",
   "execution_count": 13,
   "metadata": {},
   "outputs": [
    {
     "data": {
      "image/png": "[encoded data removed]",
      "text/plain": [
       "<Figure size 432x288 with 1 Axes>"
      ]
     },
     "metadata": {
      "needs_background": "light"
     },
     "output_type": "display_data"
    }
   ],
   "source": [
    "# Plotting the predictions made by Dev's model\n",
    "fig = plt.figure()\n",
    "plt.title(\"Dev's model\")\n",
    "xvals = np.linspace(0, 10, 10)\n",
    "plt.plot(xvals, h_dev(xvals))\n",
    "plt.xlabel(\"Bdrms\")\n",
    "plt.xlim(0, 10)\n",
    "plt.ylabel(\"Price (000 euros)\")\n",
    "plt.ylim(0, 1500)\n",
    "plt.show()"
   ]
  },
  {
   "cell_type": "markdown",
   "metadata": {
    "slideshow": {
     "slide_type": "slide"
    }
   },
   "source": [
    "<h2>Building a model: learn from data</h2>\n",
    "<ul>\n",
    "    <li>Rather than ask an expert, we want to <b>learn</b> models like Ann's and Dev's from our labeled dataset.</li>\n",
    "    <li>\n",
    "        We would take some or all of the examples, call them the <b>training set</b>, and give them to a \n",
    "        learning algorithm.\n",
    "    </li>\n",
    "    <li>As best it can, the learning algorithm would find a model based on the labeled examples in the training set.\n",
    "    </li>\n",
    "</ul>"
   ]
  },
  {
   "cell_type": "markdown",
   "metadata": {
    "slideshow": {
     "slide_type": "slide"
    }
   },
   "source": [
    "<h2>Learning from data</h2>\n",
    "<figure>\n",
    "    <img src=\"images/learning.png\" />\n",
    "</figure>"
   ]
  },
  {
   "cell_type": "markdown",
   "metadata": {
    "slideshow": {
     "slide_type": "slide"
    }
   },
   "source": [
    "<h2>Terminology</h2>\n",
    "<ul>\n",
    "    <li>\n",
    "        We will say that the algorithm <b>learns</b> a model.\n",
    "    </li>\n",
    "    <li>\n",
    "        We could also say that we are <b>training</b> the algorithm on the data.\n",
    "    <li>\n",
    "        We could also say that the algorithm <b>fits</b> a model to the training set.\n",
    "    </li>\n",
    "    <li>\n",
    "        We could also call it <b>function approximation</b>.\n",
    "    </li>\n",
    "</ul>"
   ]
  },
  {
   "cell_type": "markdown",
   "metadata": {},
   "source": [
    "<h2>Model-based learning in scikit-learn</h2>\n",
    "<ul>\n",
    "    <li>So let's use scikit-learn to learn a linear model from our labeled dataset.</li>\n",
    "    <li>The class for this is called <code>LinearRegression</code>.</li>\n",
    "</ul>"
   ]
  },
  {
   "cell_type": "code",
   "execution_count": 16,
   "metadata": {},
   "outputs": [
    {
     "data": {
      "text/html": [
       "<style>#sk-container-id-2 {color: black;background-color: white;}#sk-container-id-2 pre{padding: 0;}#sk-container-id-2 div.sk-toggleable {background-color: white;}#sk-container-id-2 label.sk-toggleable__label {cursor: pointer;display: block;width: 100%;margin-bottom: 0;padding: 0.3em;box-sizing: border-box;text-align: center;}#sk-container-id-2 label.sk-toggleable__label-arrow:before {content: \"▸\";float: left;margin-right: 0.25em;color: #696969;}#sk-container-id-2 label.sk-toggleable__label-arrow:hover:before {color: black;}#sk-container-id-2 div.sk-estimator:hover label.sk-toggleable__label-arrow:before {color: black;}#sk-container-id-2 div.sk-toggleable__content {max-height: 0;max-width: 0;overflow: hidden;text-align: left;background-color: #f0f8ff;}#sk-container-id-2 div.sk-toggleable__content pre {margin: 0.2em;color: black;border-radius: 0.25em;background-color: #f0f8ff;}#sk-container-id-2 input.sk-toggleable__control:checked~div.sk-toggleable__content {max-height: 200px;max-width: 100%;overflow: auto;}#sk-container-id-2 input.sk-toggleable__control:checked~label.sk-toggleable__label-arrow:before {content: \"▾\";}#sk-container-id-2 div.sk-estimator input.sk-toggleable__control:checked~label.sk-toggleable__label {background-color: #d4ebff;}#sk-container-id-2 div.sk-label input.sk-toggleable__control:checked~label.sk-toggleable__label {background-color: #d4ebff;}#sk-container-id-2 input.sk-hidden--visually {border: 0;clip: rect(1px 1px 1px 1px);clip: rect(1px, 1px, 1px, 1px);height: 1px;margin: -1px;overflow: hidden;padding: 0;position: absolute;width: 1px;}#sk-container-id-2 div.sk-estimator {font-family: monospace;background-color: #f0f8ff;border: 1px dotted black;border-radius: 0.25em;box-sizing: border-box;margin-bottom: 0.5em;}#sk-container-id-2 div.sk-estimator:hover {background-color: #d4ebff;}#sk-container-id-2 div.sk-parallel-item::after {content: \"\";width: 100%;border-bottom: 1px solid gray;flex-grow: 1;}#sk-container-id-2 div.sk-label:hover label.sk-toggleable__label {background-color: #d4ebff;}#sk-container-id-2 div.sk-serial::before {content: \"\";position: absolute;border-left: 1px solid gray;box-sizing: border-box;top: 0;bottom: 0;left: 50%;z-index: 0;}#sk-container-id-2 div.sk-serial {display: flex;flex-direction: column;align-items: center;background-color: white;padding-right: 0.2em;padding-left: 0.2em;position: relative;}#sk-container-id-2 div.sk-item {position: relative;z-index: 1;}#sk-container-id-2 div.sk-parallel {display: flex;align-items: stretch;justify-content: center;background-color: white;position: relative;}#sk-container-id-2 div.sk-item::before, #sk-container-id-2 div.sk-parallel-item::before {content: \"\";position: absolute;border-left: 1px solid gray;box-sizing: border-box;top: 0;bottom: 0;left: 50%;z-index: -1;}#sk-container-id-2 div.sk-parallel-item {display: flex;flex-direction: column;z-index: 1;position: relative;background-color: white;}#sk-container-id-2 div.sk-parallel-item:first-child::after {align-self: flex-end;width: 50%;}#sk-container-id-2 div.sk-parallel-item:last-child::after {align-self: flex-start;width: 50%;}#sk-container-id-2 div.sk-parallel-item:only-child::after {width: 0;}#sk-container-id-2 div.sk-dashed-wrapped {border: 1px dashed gray;margin: 0 0.4em 0.5em 0.4em;box-sizing: border-box;padding-bottom: 0.4em;background-color: white;}#sk-container-id-2 div.sk-label label {font-family: monospace;font-weight: bold;display: inline-block;line-height: 1.2em;}#sk-container-id-2 div.sk-label-container {text-align: center;}#sk-container-id-2 div.sk-container {/* jupyter's `normalize.less` sets `[hidden] { display: none; }` but bootstrap.min.css set `[hidden] { display: none !important; }` so we also need the `!important` here to be able to override the default hidden behavior on the sphinx rendered scikit-learn.org. See: https://github.com/scikit-learn/scikit-learn/issues/21755 */display: inline-block !important;position: relative;}#sk-container-id-2 div.sk-text-repr-fallback {display: none;}</style><div id=\"sk-container-id-2\" class=\"sk-top-container\"><div class=\"sk-text-repr-fallback\"><pre>LinearRegression()</pre><b>In a Jupyter environment, please rerun this cell to show the HTML representation or trust the notebook. <br />On GitHub, the HTML representation is unable to render, please try loading this page with nbviewer.org.</b></div><div class=\"sk-container\" hidden><div class=\"sk-item\"><div class=\"sk-estimator sk-toggleable\"><input class=\"sk-toggleable__control sk-hidden--visually\" id=\"sk-estimator-id-2\" type=\"checkbox\" checked><label for=\"sk-estimator-id-2\" class=\"sk-toggleable__label sk-toggleable__label-arrow\">LinearRegression</label><div class=\"sk-toggleable__content\"><pre>LinearRegression()</pre></div></div></div></div></div>"
      ],
      "text/plain": [
       "LinearRegression()"
      ]
     },
     "execution_count": 16,
     "metadata": {},
     "output_type": "execute_result"
    }
   ],
   "source": [
    "# Fit the model\n",
    "\n",
    "linear_model = LinearRegression()\n",
    "\n",
    "linear_model.fit(X, y)"
   ]
  },
  {
   "cell_type": "code",
   "execution_count": 18,
   "metadata": {},
   "outputs": [
    {
     "data": {
      "text/plain": [
       "array([352.87927594, 305.72045384])"
      ]
     },
     "execution_count": 18,
     "metadata": {},
     "output_type": "execute_result"
    }
   ],
   "source": [
    "# Make a prediction\n",
    "linear_model.predict(our_houses)"
   ]
  },
  {
   "cell_type": "markdown",
   "metadata": {},
   "source": [
    "<ul>\n",
    "    <li>As you case see, for the <code>LinearRegression</code> class, we don't need to scale the data (although \n",
    "        it wouldn't do any harm if we did).\n",
    "    </li>\n",
    "    <li>You might be wondering what linear model it actually learned. Is it the same as Ann's?\n",
    "    </li>\n",
    "</ul>"
   ]
  },
  {
   "cell_type": "code",
   "execution_count": 19,
   "metadata": {},
   "outputs": [
    {
     "data": {
      "text/plain": [
       "(38.17496491434622, array([ 2.49923248, -0.32659509,  0.78080337]))"
      ]
     },
     "execution_count": 19,
     "metadata": {},
     "output_type": "execute_result"
    }
   ],
   "source": [
    "linear_model.intercept_, linear_model.coef_"
   ]
  },
  {
   "cell_type": "markdown",
   "metadata": {},
   "source": [
    "<ul>\n",
    "    <li>So this is what it learned:\n",
    "        $$\\hat{y} = 38 + 2.5 \\times \\mathit{flarea} + -0.3 \\times \\mathit{bdrms} + 0.8 \\times \\mathit{bthrms}$$\n",
    "    </li>\n",
    "    <li>Very different from Ann's!</li>\n",
    "</ul>"
   ]
  },
  {
   "cell_type": "markdown",
   "metadata": {},
   "source": [
    "<ul>\n",
    "    <li>scikit-learn has a nice API:\n",
    "        <ul>\n",
    "            <li>All classes for transforming data, e.g. scaling it, have methods called <code>fit</code>\n",
    "                and <code>transform</code>:\n",
    "                <ul>\n",
    "                    <li><code>fit</code> computes anything that is needed to carry out the\n",
    "                        transformation. For example, in the case of <code>StandardScaler</code>, it calculates\n",
    "                        the mean and standard deviation.\n",
    "                    </li>\n",
    "                    <li><code>transform</code> performs the actual transformation. In the case of\n",
    "                        <code>StandardScaler</code>, it subtracts the mean and divides by the standard deviation.\n",
    "                    </li>\n",
    "                </ul>\n",
    "            </li>\n",
    "            <li>All classes for making predictions have methods called <code>fit</code> and <code>predict</code>:\n",
    "                <ul>\n",
    "                    <li><code>fit</code> builds the model. \n",
    "                        <ul>\n",
    "                            <li>For example, for <code>KNeighborsRegressor</code>, it chooses a data structure\n",
    "                                for storing the labeld dataset.\n",
    "                            </li>\n",
    "                            <li>For <code>LinearRegression</code>, it learns the linear model from the labeled\n",
    "                                dataset.\n",
    "                            </li>\n",
    "                        </ul>\n",
    "                    </li>\n",
    "                    <li><code>predict</code> uses the model to make predictions.\n",
    "                        <ul>\n",
    "                            <li>For example, for <code>KNeighborsRegressor</code>, it finds neighbours and\n",
    "                                averages their $y$-values.\n",
    "                            </li>\n",
    "                            <li>For <code>LinearRegression</code>, it plugs values into the formula learned\n",
    "                                by the <code>fit</code> method.\n",
    "                            </li>\n",
    "                        </ul>\n",
    "                    </li>\n",
    "                </ul>\n",
    "            </li>\n",
    "        </ul>\n",
    "    </li>\n",
    "    <li>We can see how neat it is by showing the code for the <code>KNeighborsRegressor</code>:\n",
    " </ul>"
   ]
  },
  {
   "cell_type": "code",
   "execution_count": 20,
   "metadata": {},
   "outputs": [
    {
     "data": {
      "text/html": [
       "<style>#sk-container-id-3 {color: black;background-color: white;}#sk-container-id-3 pre{padding: 0;}#sk-container-id-3 div.sk-toggleable {background-color: white;}#sk-container-id-3 label.sk-toggleable__label {cursor: pointer;display: block;width: 100%;margin-bottom: 0;padding: 0.3em;box-sizing: border-box;text-align: center;}#sk-container-id-3 label.sk-toggleable__label-arrow:before {content: \"▸\";float: left;margin-right: 0.25em;color: #696969;}#sk-container-id-3 label.sk-toggleable__label-arrow:hover:before {color: black;}#sk-container-id-3 div.sk-estimator:hover label.sk-toggleable__label-arrow:before {color: black;}#sk-container-id-3 div.sk-toggleable__content {max-height: 0;max-width: 0;overflow: hidden;text-align: left;background-color: #f0f8ff;}#sk-container-id-3 div.sk-toggleable__content pre {margin: 0.2em;color: black;border-radius: 0.25em;background-color: #f0f8ff;}#sk-container-id-3 input.sk-toggleable__control:checked~div.sk-toggleable__content {max-height: 200px;max-width: 100%;overflow: auto;}#sk-container-id-3 input.sk-toggleable__control:checked~label.sk-toggleable__label-arrow:before {content: \"▾\";}#sk-container-id-3 div.sk-estimator input.sk-toggleable__control:checked~label.sk-toggleable__label {background-color: #d4ebff;}#sk-container-id-3 div.sk-label input.sk-toggleable__control:checked~label.sk-toggleable__label {background-color: #d4ebff;}#sk-container-id-3 input.sk-hidden--visually {border: 0;clip: rect(1px 1px 1px 1px);clip: rect(1px, 1px, 1px, 1px);height: 1px;margin: -1px;overflow: hidden;padding: 0;position: absolute;width: 1px;}#sk-container-id-3 div.sk-estimator {font-family: monospace;background-color: #f0f8ff;border: 1px dotted black;border-radius: 0.25em;box-sizing: border-box;margin-bottom: 0.5em;}#sk-container-id-3 div.sk-estimator:hover {background-color: #d4ebff;}#sk-container-id-3 div.sk-parallel-item::after {content: \"\";width: 100%;border-bottom: 1px solid gray;flex-grow: 1;}#sk-container-id-3 div.sk-label:hover label.sk-toggleable__label {background-color: #d4ebff;}#sk-container-id-3 div.sk-serial::before {content: \"\";position: absolute;border-left: 1px solid gray;box-sizing: border-box;top: 0;bottom: 0;left: 50%;z-index: 0;}#sk-container-id-3 div.sk-serial {display: flex;flex-direction: column;align-items: center;background-color: white;padding-right: 0.2em;padding-left: 0.2em;position: relative;}#sk-container-id-3 div.sk-item {position: relative;z-index: 1;}#sk-container-id-3 div.sk-parallel {display: flex;align-items: stretch;justify-content: center;background-color: white;position: relative;}#sk-container-id-3 div.sk-item::before, #sk-container-id-3 div.sk-parallel-item::before {content: \"\";position: absolute;border-left: 1px solid gray;box-sizing: border-box;top: 0;bottom: 0;left: 50%;z-index: -1;}#sk-container-id-3 div.sk-parallel-item {display: flex;flex-direction: column;z-index: 1;position: relative;background-color: white;}#sk-container-id-3 div.sk-parallel-item:first-child::after {align-self: flex-end;width: 50%;}#sk-container-id-3 div.sk-parallel-item:last-child::after {align-self: flex-start;width: 50%;}#sk-container-id-3 div.sk-parallel-item:only-child::after {width: 0;}#sk-container-id-3 div.sk-dashed-wrapped {border: 1px dashed gray;margin: 0 0.4em 0.5em 0.4em;box-sizing: border-box;padding-bottom: 0.4em;background-color: white;}#sk-container-id-3 div.sk-label label {font-family: monospace;font-weight: bold;display: inline-block;line-height: 1.2em;}#sk-container-id-3 div.sk-label-container {text-align: center;}#sk-container-id-3 div.sk-container {/* jupyter's `normalize.less` sets `[hidden] { display: none; }` but bootstrap.min.css set `[hidden] { display: none !important; }` so we also need the `!important` here to be able to override the default hidden behavior on the sphinx rendered scikit-learn.org. See: https://github.com/scikit-learn/scikit-learn/issues/21755 */display: inline-block !important;position: relative;}#sk-container-id-3 div.sk-text-repr-fallback {display: none;}</style><div id=\"sk-container-id-3\" class=\"sk-top-container\"><div class=\"sk-text-repr-fallback\"><pre>KNeighborsRegressor(n_neighbors=3)</pre><b>In a Jupyter environment, please rerun this cell to show the HTML representation or trust the notebook. <br />On GitHub, the HTML representation is unable to render, please try loading this page with nbviewer.org.</b></div><div class=\"sk-container\" hidden><div class=\"sk-item\"><div class=\"sk-estimator sk-toggleable\"><input class=\"sk-toggleable__control sk-hidden--visually\" id=\"sk-estimator-id-3\" type=\"checkbox\" checked><label for=\"sk-estimator-id-3\" class=\"sk-toggleable__label sk-toggleable__label-arrow\">KNeighborsRegressor</label><div class=\"sk-toggleable__content\"><pre>KNeighborsRegressor(n_neighbors=3)</pre></div></div></div></div></div>"
      ],
      "text/plain": [
       "KNeighborsRegressor(n_neighbors=3)"
      ]
     },
     "execution_count": 20,
     "metadata": {},
     "output_type": "execute_result"
    }
   ],
   "source": [
    "# Fit the model\n",
    "\n",
    "knn = KNeighborsRegressor(n_neighbors=3)\n",
    "\n",
    "knn.fit(X_scaled, y)"
   ]
  },
  {
   "cell_type": "code",
   "execution_count": 21,
   "metadata": {},
   "outputs": [
    {
     "data": {
      "text/plain": [
       "array([313.33333333, 241.33333333])"
      ]
     },
     "execution_count": 21,
     "metadata": {},
     "output_type": "execute_result"
    }
   ],
   "source": [
    "# Make a prediction\n",
    "knn.predict(our_houses_scaled)"
   ]
  },
  {
   "cell_type": "markdown",
   "metadata": {},
   "source": [
    "<ul>\n",
    "    <li><strong>Don't copy any code from this notebook!</strong></li>\n",
    "    <li>We don't normally call <code>fit/transform</code> or <code>fit/predict</code> ourselves. There \n",
    "        are functions that call them for us (e.g. <code>cross_val_score</code>).\n",
    "    </li>\n",
    "    <li>We don't normally learn the model from the entire dataset: we split it into a training set and a test set, \n",
    "        and we learn the model only from the training set.\n",
    "    </li>\n",
    "</ul>"
   ]
  },
  {
   "cell_type": "code",
   "execution_count": null,
   "metadata": {},
   "outputs": [],
   "source": []
  }
 ],
 "metadata": {
  "celltoolbar": "Slideshow",
  "kernelspec": {
   "display_name": "Python 3 (ipykernel)",
   "language": "python",
   "name": "python3"
  },
  "language_info": {
   "codemirror_mode": {
    "name": "ipython",
    "version": 3
   },
   "file_extension": ".py",
   "mimetype": "text/x-python",
   "name": "python",
   "nbconvert_exporter": "python",
   "pygments_lexer": "ipython3",
   "version": "3.8.5"
  }
 },
 "nbformat": 4,
 "nbformat_minor": 1
}
