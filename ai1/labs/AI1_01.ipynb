{
 "cells": [
  {
   "cell_type": "markdown",
   "metadata": {},
   "source": [
    "<h1>01 Numpy</h1>\n",
    "$\\newcommand{\\Set}[1]{\\{#1\\}}$ \n",
    "$\\newcommand{\\Tuple}[1]{\\langle#1\\rangle}$ \n",
    "$\\newcommand{\\v}[1]{\\pmb{#1}}$ \n",
    "$\\newcommand{\\cv}[1]{\\begin{bmatrix}#1\\end{bmatrix}}$ \n",
    "$\\newcommand{\\rv}[1]{[#1]}$ \n",
    "$\\DeclareMathOperator{\\argmax}{arg\\,max}$ \n",
    "$\\DeclareMathOperator{\\argmin}{arg\\,min}$ \n",
    "$\\DeclareMathOperator{\\dist}{dist}$\n",
    "$\\DeclareMathOperator{\\abs}{abs}$"
   ]
  },
  {
   "cell_type": "markdown",
   "metadata": {},
   "source": [
    "<h2>Preliminaries</h2>\n",
    "<p>\n",
    "    One of my first code cells always looks like this:\n",
    "</p>"
   ]
  },
  {
   "cell_type": "code",
   "execution_count": 1,
   "metadata": {},
   "outputs": [],
   "source": [
    "%load_ext autoreload\n",
    "%autoreload 2\n",
    "%matplotlib inline"
   ]
  },
  {
   "cell_type": "markdown",
   "metadata": {},
   "source": [
    "<p>\n",
    "    The first two lines mean that modules get reloaded before executing anything. So if I have my own module\n",
    "    and I change it in an editor, then I can run the code without worrying about how to reload the changed\n",
    "    module: it's done automatically.\n",
    "</p>\n",
    "<p>\n",
    "    The third line says that when we draw graphs, they will appear in the notebook itself, not in a separate\n",
    "    window.\n",
    "</p>"
   ]
  },
  {
   "cell_type": "markdown",
   "metadata": {},
   "source": [
    "<p>\n",
    "    My next cell usually contains these three imports:\n",
    "</p>"
   ]
  },
  {
   "cell_type": "code",
   "execution_count": 2,
   "metadata": {},
   "outputs": [],
   "source": [
    "import pandas as pd\n",
    "import numpy as np\n",
    "import matplotlib.pyplot as plt"
   ]
  },
  {
   "cell_type": "markdown",
   "metadata": {},
   "source": [
    "<p>\n",
    "    My third code cell also contains <code>import</code> statements, ones that are specific to this notebook. \n",
    "    Here's an example:\n",
    "</p>"
   ]
  },
  {
   "cell_type": "code",
   "execution_count": 3,
   "metadata": {},
   "outputs": [],
   "source": [
    "from math import sqrt"
   ]
  },
  {
   "cell_type": "markdown",
   "metadata": {},
   "source": [
    "<p>\n",
    "    So now we can compute square roots:\n",
    "</p>"
   ]
  },
  {
   "cell_type": "code",
   "execution_count": 4,
   "metadata": {},
   "outputs": [
    {
     "data": {
      "text/plain": [
       "9.0"
      ]
     },
     "execution_count": 4,
     "metadata": {},
     "output_type": "execute_result"
    }
   ],
   "source": [
    "sqrt(81)"
   ]
  },
  {
   "cell_type": "markdown",
   "metadata": {},
   "source": [
    "<h2>Numpy</h2>\n",
    "<p>\n",
    "    Numpy is short for Numerical Python. It offers <code>ndarray</code>, which is a fast and space-efficient\n",
    "    multidimensional array providing vectorized arithmetic operations, among other things. Pandas is built atop\n",
    "    of numpy, and is somehwat more high-level; scikit-learn uses numpy ndarrays as its main data structure;\n",
    "    matplotlib works with numpy arrays also.\n",
    "</p>"
   ]
  },
  {
   "cell_type": "markdown",
   "metadata": {},
   "source": [
    "<h2>Exercises</h2>\n",
    "<ol>\n",
    "    <li>\n",
    "        Let\n",
    "        $$\\v{u} = \\cv{2\\\\-7\\\\1}\\,\\,\\,\n",
    "          \\v{v} = \\cv{-3\\\\0\\\\4}$$\n",
    "        and\n",
    "        $$\\v{A} =  \\begin{bmatrix}\n",
    "                      1 &  2 & 0 \\\\\n",
    "                      3 & -1 & 4\n",
    "                  \\end{bmatrix}\\,\\,\\,\n",
    "           \\v{B} = \\begin{bmatrix}\n",
    "                       2 & -1 \\\\\n",
    "                       1 &  0 \\\\\n",
    "                      -3 & 4\n",
    "                \\end{bmatrix}$$\n",
    "        Use numpy to compute:\n",
    "        <ol>\n",
    "            <li>$\\v{u} + \\v{v}$</li>\n",
    "            <li>$-3\\v{u}$</li>\n",
    "            <li>$\\v{u}\\v{v}$ (Strictly, we should write $\\v{u}^T\\v{v}$. Why? But it is common to write it without the transpose.)</li>\n",
    "            <li>$\\v{u}\\v{u}$</li>\n",
    "            <li>$\\sqrt{\\v{u}\\v{u}}$</li>\n",
    "            <li>$\\v{u} * \\v{v}$</li>\n",
    "            <li>$\\v{A} + \\v{A}$</li>\n",
    "            <li>$\\v{A} + \\v{u}$</li>\n",
    "            <li>$10\\v{A}$</li>\n",
    "            <li>$\\v{A}\\v{v}$</li>\n",
    "            <li>$\\v{A}\\v{B}$</li>\n",
    "            <li>$\\v{A}^T$</li>\n",
    "            <li>$\\v{A}\\v{A}^T$</li>\n",
    "            <li>$\\v{A}^T\\v{A}$</li>\n",
    "            <li>the smallest element in $\\v{u}$</li>\n",
    "            <li>the index of the smallest element in $\\v{u}$</li>\n",
    "            <li>the mean of the values in $\\v{u}$</li>\n",
    "        </ol>\n",
    "    </li>\n",
    "    <li>Play with the <code>cumsum</code> method on 1-dimensional numpy arrays. Then define a Python function\n",
    "        that does the same thing for regular Python lists. Then compare how long they take to run on an \n",
    "        array/list that contains all the integers from 1 to 1000 inclusive.\n",
    "    </li>\n",
    "</ol>"
   ]
  },
  {
   "cell_type": "code",
   "execution_count": 5,
   "metadata": {},
   "outputs": [
    {
     "data": {
      "text/plain": [
       "((3,), (3,), (2, 3), (3, 2))"
      ]
     },
     "execution_count": 5,
     "metadata": {},
     "output_type": "execute_result"
    }
   ],
   "source": [
    "# Question 1:\n",
    "u = np.array([2, -7, 1])\n",
    "v = np.array([-3, 0, 4])\n",
    "\n",
    "A = np.array([[1, 2, 0], [3, -1, 4]])\n",
    "B = np.array([[2, -1], [1, 0], [-3, 4]])\n",
    "\n",
    "u.shape, v.shape, A.shape, B.shape"
   ]
  },
  {
   "cell_type": "code",
   "execution_count": 6,
   "metadata": {},
   "outputs": [
    {
     "data": {
      "text/plain": [
       "array([-1, -7,  5])"
      ]
     },
     "execution_count": 6,
     "metadata": {},
     "output_type": "execute_result"
    }
   ],
   "source": [
    "# A. u + v\n",
    "u + v\n",
    "# np.add(u, v)"
   ]
  },
  {
   "cell_type": "code",
   "execution_count": 7,
   "metadata": {},
   "outputs": [
    {
     "data": {
      "text/plain": [
       "array([-6, 21, -3])"
      ]
     },
     "execution_count": 7,
     "metadata": {},
     "output_type": "execute_result"
    }
   ],
   "source": [
    "# B. -3u\n",
    "-3*u\n",
    "# np.multiply(-3, u)"
   ]
  },
  {
   "cell_type": "code",
   "execution_count": 8,
   "metadata": {},
   "outputs": [
    {
     "data": {
      "text/plain": [
       "-2"
      ]
     },
     "execution_count": 8,
     "metadata": {},
     "output_type": "execute_result"
    }
   ],
   "source": [
    "# C. uv\n",
    "np.dot(u, v)\n",
    "# u.dot(v)"
   ]
  },
  {
   "cell_type": "code",
   "execution_count": 9,
   "metadata": {},
   "outputs": [
    {
     "data": {
      "text/plain": [
       "54"
      ]
     },
     "execution_count": 9,
     "metadata": {},
     "output_type": "execute_result"
    }
   ],
   "source": [
    "# D. uu\n",
    "np.dot(u, u)\n",
    "# u.dot(u)"
   ]
  },
  {
   "cell_type": "code",
   "execution_count": 10,
   "metadata": {},
   "outputs": [
    {
     "data": {
      "text/plain": [
       "7.3484692283495345"
      ]
     },
     "execution_count": 10,
     "metadata": {},
     "output_type": "execute_result"
    }
   ],
   "source": [
    "# E. sqrt(uu)\n",
    "np.sqrt(np.dot(u, u))"
   ]
  },
  {
   "cell_type": "code",
   "execution_count": 11,
   "metadata": {},
   "outputs": [
    {
     "data": {
      "text/plain": [
       "array([-6,  0,  4])"
      ]
     },
     "execution_count": 11,
     "metadata": {},
     "output_type": "execute_result"
    }
   ],
   "source": [
    "# F. u*v\n",
    "u * v"
   ]
  },
  {
   "cell_type": "code",
   "execution_count": 12,
   "metadata": {},
   "outputs": [
    {
     "data": {
      "text/plain": [
       "array([[ 2,  4,  0],\n",
       "       [ 6, -2,  8]])"
      ]
     },
     "execution_count": 12,
     "metadata": {},
     "output_type": "execute_result"
    }
   ],
   "source": [
    "# G. A + A \n",
    "A + A\n",
    "# np.add(A, A)"
   ]
  },
  {
   "cell_type": "code",
   "execution_count": 13,
   "metadata": {},
   "outputs": [
    {
     "data": {
      "text/plain": [
       "array([[ 3, -5,  1],\n",
       "       [ 5, -8,  5]])"
      ]
     },
     "execution_count": 13,
     "metadata": {},
     "output_type": "execute_result"
    }
   ],
   "source": [
    "# H. A + u\n",
    "A + u\n",
    "# np.add(A, u)"
   ]
  },
  {
   "cell_type": "code",
   "execution_count": 14,
   "metadata": {},
   "outputs": [
    {
     "data": {
      "text/plain": [
       "array([[ 10,  20,   0],\n",
       "       [ 30, -10,  40]])"
      ]
     },
     "execution_count": 14,
     "metadata": {},
     "output_type": "execute_result"
    }
   ],
   "source": [
    "# I. 10A\n",
    "10 * A\n",
    "# np.multiply(10, A)"
   ]
  },
  {
   "cell_type": "code",
   "execution_count": 15,
   "metadata": {},
   "outputs": [
    {
     "data": {
      "text/plain": [
       "array([-3,  7])"
      ]
     },
     "execution_count": 15,
     "metadata": {},
     "output_type": "execute_result"
    }
   ],
   "source": [
    "# J. Av\n",
    "np.dot(A, v)\n",
    "# A.dot(v)"
   ]
  },
  {
   "cell_type": "code",
   "execution_count": 16,
   "metadata": {},
   "outputs": [
    {
     "data": {
      "text/plain": [
       "array([[ 4, -1],\n",
       "       [-7, 13]])"
      ]
     },
     "execution_count": 16,
     "metadata": {},
     "output_type": "execute_result"
    }
   ],
   "source": [
    "# K. AB\n",
    "np.dot(A, B)\n",
    "# A.dot(B)"
   ]
  },
  {
   "cell_type": "code",
   "execution_count": 17,
   "metadata": {},
   "outputs": [
    {
     "data": {
      "text/plain": [
       "array([[ 1,  3],\n",
       "       [ 2, -1],\n",
       "       [ 0,  4]])"
      ]
     },
     "execution_count": 17,
     "metadata": {},
     "output_type": "execute_result"
    }
   ],
   "source": [
    "# L. A^T\n",
    "A.transpose()"
   ]
  },
  {
   "cell_type": "code",
   "execution_count": 18,
   "metadata": {},
   "outputs": [
    {
     "data": {
      "text/plain": [
       "array([[ 5,  1],\n",
       "       [ 1, 26]])"
      ]
     },
     "execution_count": 18,
     "metadata": {},
     "output_type": "execute_result"
    }
   ],
   "source": [
    "# M. AA^T\n",
    "np.dot(A, A.transpose())\n",
    "# A.dot(A.transpose())"
   ]
  },
  {
   "cell_type": "code",
   "execution_count": 19,
   "metadata": {},
   "outputs": [
    {
     "data": {
      "text/plain": [
       "array([[10, -1, 12],\n",
       "       [-1,  5, -4],\n",
       "       [12, -4, 16]])"
      ]
     },
     "execution_count": 19,
     "metadata": {},
     "output_type": "execute_result"
    }
   ],
   "source": [
    "# N. A^TA\n",
    "np.dot(A.transpose(), A)\n",
    "# A.transpose().dot(A)"
   ]
  },
  {
   "cell_type": "code",
   "execution_count": 20,
   "metadata": {},
   "outputs": [
    {
     "data": {
      "text/plain": [
       "-7"
      ]
     },
     "execution_count": 20,
     "metadata": {},
     "output_type": "execute_result"
    }
   ],
   "source": [
    "# O. smallest element in u\n",
    "np.min(u)"
   ]
  },
  {
   "cell_type": "code",
   "execution_count": 21,
   "metadata": {},
   "outputs": [
    {
     "data": {
      "text/plain": [
       "1"
      ]
     },
     "execution_count": 21,
     "metadata": {},
     "output_type": "execute_result"
    }
   ],
   "source": [
    "# P. index of smallest element in u\n",
    "np.argmin(u)"
   ]
  },
  {
   "cell_type": "code",
   "execution_count": 22,
   "metadata": {},
   "outputs": [
    {
     "data": {
      "text/plain": [
       "-1.3333333333333333"
      ]
     },
     "execution_count": 22,
     "metadata": {},
     "output_type": "execute_result"
    }
   ],
   "source": [
    "# Q. average of elements in u\n",
    "np.average(u)"
   ]
  },
  {
   "cell_type": "code",
   "execution_count": 23,
   "metadata": {},
   "outputs": [
    {
     "data": {
      "text/plain": [
       "array([ 2, -5, -4])"
      ]
     },
     "execution_count": 23,
     "metadata": {},
     "output_type": "execute_result"
    }
   ],
   "source": [
    "# Question 2\n",
    "np.cumsum(u)"
   ]
  },
  {
   "cell_type": "code",
   "execution_count": 24,
   "metadata": {},
   "outputs": [],
   "source": [
    "def list_cumsum(input_list:list):\n",
    "    result = []\n",
    "    current_total = 0\n",
    "    for element in input_list:\n",
    "        current_total += element\n",
    "        result.append(current_total)\n",
    "    return result"
   ]
  },
  {
   "cell_type": "code",
   "execution_count": 25,
   "metadata": {},
   "outputs": [
    {
     "data": {
      "text/plain": [
       "[2, -5, -4]"
      ]
     },
     "execution_count": 25,
     "metadata": {},
     "output_type": "execute_result"
    }
   ],
   "source": [
    "list_u = u.tolist()\n",
    "list_cumsum(list_u)"
   ]
  },
  {
   "cell_type": "code",
   "execution_count": 26,
   "metadata": {},
   "outputs": [
    {
     "name": "stdout",
     "output_type": "stream",
     "text": [
      "--- Numpy cumsum: 9.679794311523438e-05 seconds ---\n"
     ]
    }
   ],
   "source": [
    "# compare timings\n",
    "import time\n",
    "list_input = [i for i in range(0, 1001)]\n",
    "nparray_input = np.array(list_input)\n",
    "\n",
    "np_time = time.time()\n",
    "np.cumsum(nparray_input)\n",
    "print(\"--- Numpy cumsum: %s seconds ---\" % (time.time() - np_time))"
   ]
  },
  {
   "cell_type": "code",
   "execution_count": 27,
   "metadata": {},
   "outputs": [
    {
     "name": "stdout",
     "output_type": "stream",
     "text": [
      "--- List cumsum: 0.00014090538024902344 seconds ---\n"
     ]
    }
   ],
   "source": [
    "# compare timings\n",
    "list_time = time.time()\n",
    "list_cumsum(list_input)\n",
    "print(\"--- List cumsum: %s seconds ---\" % (time.time() - list_time))"
   ]
  }
 ],
 "metadata": {
  "kernelspec": {
   "display_name": "Python 3 (ipykernel)",
   "language": "python",
   "name": "python3"
  },
  "language_info": {
   "codemirror_mode": {
    "name": "ipython",
    "version": 3
   },
   "file_extension": ".py",
   "mimetype": "text/x-python",
   "name": "python",
   "nbconvert_exporter": "python",
   "pygments_lexer": "ipython3",
   "version": "3.8.10"
  }
 },
 "nbformat": 4,
 "nbformat_minor": 1
}
