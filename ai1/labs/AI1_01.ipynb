{
  "cells": [
    {
      "cell_type": "markdown",
      "metadata": {
        "id": "view-in-github",
        "colab_type": "text"
      },
      "source": [
        "<a href=\"https://colab.research.google.com/github/bowei-yu/artificial_intelligence/blob/master/ai1/labs/AI1_01.ipynb\" target=\"_parent\"><img src=\"https://colab.research.google.com/assets/colab-badge.svg\" alt=\"Open In Colab\"/></a>"
      ]
    },
    {
      "cell_type": "markdown",
      "metadata": {
        "id": "8gUZU9Me96Dr"
      },
      "source": [
        "<h1>01 Numpy</h1>\n",
        "$\\newcommand{\\Set}[1]{\\{#1\\}}$ \n",
        "$\\newcommand{\\Tuple}[1]{\\langle#1\\rangle}$ \n",
        "$\\newcommand{\\v}[1]{\\pmb{#1}}$ \n",
        "$\\newcommand{\\cv}[1]{\\begin{bmatrix}#1\\end{bmatrix}}$ \n",
        "$\\newcommand{\\rv}[1]{[#1]}$ \n",
        "$\\DeclareMathOperator{\\argmax}{arg\\,max}$ \n",
        "$\\DeclareMathOperator{\\argmin}{arg\\,min}$ \n",
        "$\\DeclareMathOperator{\\dist}{dist}$\n",
        "$\\DeclareMathOperator{\\abs}{abs}$"
      ]
    },
    {
      "cell_type": "markdown",
      "metadata": {
        "id": "00VGtYxV96Dt"
      },
      "source": [
        "<h2>Preliminaries</h2>\n",
        "<p>\n",
        "    One of my first code cells always looks like this:\n",
        "</p>"
      ]
    },
    {
      "cell_type": "code",
      "execution_count": 1,
      "metadata": {
        "id": "aebxsQfj96Dv"
      },
      "outputs": [],
      "source": [
        "%load_ext autoreload\n",
        "%autoreload 2\n",
        "%matplotlib inline"
      ]
    },
    {
      "cell_type": "markdown",
      "metadata": {
        "id": "H0Yy7N5996Dw"
      },
      "source": [
        "<p>\n",
        "    The first two lines mean that modules get reloaded before executing anything. So if I have my own module\n",
        "    and I change it in an editor, then I can run the code without worrying about how to reload the changed\n",
        "    module: it's done automatically.\n",
        "</p>\n",
        "<p>\n",
        "    The third line says that when we draw graphs, they will appear in the notebook itself, not in a separate\n",
        "    window.\n",
        "</p>"
      ]
    },
    {
      "cell_type": "markdown",
      "metadata": {
        "id": "AHQ6v17396Dw"
      },
      "source": [
        "<p>\n",
        "    My next cell usually contains these three imports:\n",
        "</p>"
      ]
    },
    {
      "cell_type": "code",
      "execution_count": 2,
      "metadata": {
        "id": "N0nn7Bh296Dx"
      },
      "outputs": [],
      "source": [
        "import pandas as pd\n",
        "import numpy as np\n",
        "import matplotlib.pyplot as plt"
      ]
    },
    {
      "cell_type": "markdown",
      "metadata": {
        "id": "Qi0N4mtg96Dx"
      },
      "source": [
        "<p>\n",
        "    My third code cell also contains <code>import</code> statements, ones that are specific to this notebook. \n",
        "    Here's an example:\n",
        "</p>"
      ]
    },
    {
      "cell_type": "code",
      "execution_count": 3,
      "metadata": {
        "id": "qOkPN3ga96Dy"
      },
      "outputs": [],
      "source": [
        "from math import sqrt"
      ]
    },
    {
      "cell_type": "markdown",
      "metadata": {
        "id": "ioRkEcAy96Dz"
      },
      "source": [
        "<p>\n",
        "    So now we can compute square roots:\n",
        "</p>"
      ]
    },
    {
      "cell_type": "code",
      "execution_count": 4,
      "metadata": {
        "colab": {
          "base_uri": "https://localhost:8080/"
        },
        "id": "7hfW-rW996D0",
        "outputId": "84b27c60-51a0-473a-eedb-ebd08c9219bb"
      },
      "outputs": [
        {
          "output_type": "execute_result",
          "data": {
            "text/plain": [
              "9.0"
            ]
          },
          "metadata": {},
          "execution_count": 4
        }
      ],
      "source": [
        "sqrt(81)"
      ]
    },
    {
      "cell_type": "markdown",
      "metadata": {
        "id": "cIVJBcoM96D1"
      },
      "source": [
        "<h2>Numpy</h2>\n",
        "<p>\n",
        "    Numpy is short for Numerical Python. It offers <code>ndarray</code>, which is a fast and space-efficient\n",
        "    multidimensional array providing vectorized arithmetic operations, among other things. Pandas is built atop\n",
        "    of numpy, and is somehwat more high-level; scikit-learn uses numpy ndarrays as its main data structure;\n",
        "    matplotlib works with numpy arrays also.\n",
        "</p>"
      ]
    },
    {
      "cell_type": "markdown",
      "metadata": {
        "id": "sNcYnXWZ96D2"
      },
      "source": [
        "<h2>Exercises</h2>\n",
        "<ol>\n",
        "    <li>\n",
        "        Let\n",
        "        $$\\v{u} = \\cv{2\\\\-7\\\\1}\\,\\,\\,\n",
        "          \\v{v} = \\cv{-3\\\\0\\\\4}$$\n",
        "        and\n",
        "        $$\\v{A} =  \\begin{bmatrix}\n",
        "                      1 &  2 & 0 \\\\\n",
        "                      3 & -1 & 4\n",
        "                  \\end{bmatrix}\\,\\,\\,\n",
        "           \\v{B} = \\begin{bmatrix}\n",
        "                       2 & -1 \\\\\n",
        "                       1 &  0 \\\\\n",
        "                      -3 & 4\n",
        "                \\end{bmatrix}$$\n",
        "        Use numpy to compute:\n",
        "        <ol>\n",
        "            <li>$\\v{u} + \\v{v}$</li>\n",
        "            <li>$-3\\v{u}$</li>\n",
        "            <li>$\\v{u}\\v{v}$ (Strictly, we should write $\\v{u}^T\\v{v}$. Why? But it is common to write it without the transpose.)</li>\n",
        "            <li>$\\v{u}\\v{u}$</li>\n",
        "            <li>$\\sqrt{\\v{u}\\v{u}}$</li>\n",
        "            <li>$\\v{u} * \\v{v}$</li>\n",
        "            <li>$\\v{A} + \\v{A}$</li>\n",
        "            <li>$\\v{A} + \\v{u}$</li>\n",
        "            <li>$10\\v{A}$</li>\n",
        "            <li>$\\v{A}\\v{v}$</li>\n",
        "            <li>$\\v{A}\\v{B}$</li>\n",
        "            <li>$\\v{A}^T$</li>\n",
        "            <li>$\\v{A}\\v{A}^T$</li>\n",
        "            <li>$\\v{A}^T\\v{A}$</li>\n",
        "            <li>the smallest element in $\\v{u}$</li>\n",
        "            <li>the index of the smallest element in $\\v{u}$</li>\n",
        "            <li>the mean of the values in $\\v{u}$</li>\n",
        "        </ol>\n",
        "    </li>\n",
        "    <li>Play with the <code>cumsum</code> method on 1-dimensional numpy arrays. Then define a Python function\n",
        "        that does the same thing for regular Python lists. Then compare how long they take to run on an \n",
        "        array/list that contains all the integers from 1 to 1000 inclusive.\n",
        "    </li>\n",
        "</ol>"
      ]
    },
    {
      "cell_type": "code",
      "execution_count": 5,
      "metadata": {
        "colab": {
          "base_uri": "https://localhost:8080/"
        },
        "id": "DRtq2c9896D3",
        "outputId": "66ae6cab-aa6f-4ce0-b4db-76cf688c3c45"
      },
      "outputs": [
        {
          "output_type": "execute_result",
          "data": {
            "text/plain": [
              "((3,), (3,), (2, 3), (3, 2))"
            ]
          },
          "metadata": {},
          "execution_count": 5
        }
      ],
      "source": [
        "# Question 1:\n",
        "u = np.array([2, -7, 1])\n",
        "v = np.array([-3, 0, 4])\n",
        "\n",
        "A = np.array([[1, 2, 0], [3, -1, 4]])\n",
        "B = np.array([[2, -1], [1, 0], [-3, 4]])\n",
        "\n",
        "u.shape, v.shape, A.shape, B.shape"
      ]
    },
    {
      "cell_type": "code",
      "execution_count": 6,
      "metadata": {
        "colab": {
          "base_uri": "https://localhost:8080/"
        },
        "id": "eINixzyS96D4",
        "outputId": "96f05331-0068-4d80-8b9a-1de363433fd5"
      },
      "outputs": [
        {
          "output_type": "execute_result",
          "data": {
            "text/plain": [
              "array([-1, -7,  5])"
            ]
          },
          "metadata": {},
          "execution_count": 6
        }
      ],
      "source": [
        "# A. u + v\n",
        "u + v\n",
        "# np.add(u, v)"
      ]
    },
    {
      "cell_type": "code",
      "execution_count": 7,
      "metadata": {
        "colab": {
          "base_uri": "https://localhost:8080/"
        },
        "id": "D-lDzZrM96D4",
        "outputId": "f5e879d3-8eab-4c55-ad38-5679d7cc8f36"
      },
      "outputs": [
        {
          "output_type": "execute_result",
          "data": {
            "text/plain": [
              "array([-6, 21, -3])"
            ]
          },
          "metadata": {},
          "execution_count": 7
        }
      ],
      "source": [
        "# B. -3u\n",
        "-3*u\n",
        "# np.multiply(-3, u)"
      ]
    },
    {
      "cell_type": "code",
      "execution_count": 8,
      "metadata": {
        "colab": {
          "base_uri": "https://localhost:8080/"
        },
        "id": "uI1nYjUM96D5",
        "outputId": "2a1d48db-82f7-40da-f66e-32ca3c1bc5d9"
      },
      "outputs": [
        {
          "output_type": "execute_result",
          "data": {
            "text/plain": [
              "-2"
            ]
          },
          "metadata": {},
          "execution_count": 8
        }
      ],
      "source": [
        "# C. uv\n",
        "np.dot(u, v)\n",
        "# u.dot(v)"
      ]
    },
    {
      "cell_type": "code",
      "execution_count": 9,
      "metadata": {
        "colab": {
          "base_uri": "https://localhost:8080/"
        },
        "id": "QcA-dO-796D6",
        "outputId": "93f2b2f4-4b13-45ee-cdeb-07d6d017408c"
      },
      "outputs": [
        {
          "output_type": "execute_result",
          "data": {
            "text/plain": [
              "54"
            ]
          },
          "metadata": {},
          "execution_count": 9
        }
      ],
      "source": [
        "# D. uu\n",
        "np.dot(u, u)\n",
        "# u.dot(u)"
      ]
    },
    {
      "cell_type": "code",
      "execution_count": 10,
      "metadata": {
        "colab": {
          "base_uri": "https://localhost:8080/"
        },
        "id": "xTuRsMe-96D6",
        "outputId": "e1da9764-4bab-48b3-8b5a-e7bade8f4e75"
      },
      "outputs": [
        {
          "output_type": "execute_result",
          "data": {
            "text/plain": [
              "7.3484692283495345"
            ]
          },
          "metadata": {},
          "execution_count": 10
        }
      ],
      "source": [
        "# E. sqrt(uu)\n",
        "np.sqrt(np.dot(u, u))"
      ]
    },
    {
      "cell_type": "code",
      "execution_count": 11,
      "metadata": {
        "colab": {
          "base_uri": "https://localhost:8080/"
        },
        "id": "h8gmRv-D96D6",
        "outputId": "89e98f48-b2ef-4477-e8cc-3a2e101be832"
      },
      "outputs": [
        {
          "output_type": "execute_result",
          "data": {
            "text/plain": [
              "array([-6,  0,  4])"
            ]
          },
          "metadata": {},
          "execution_count": 11
        }
      ],
      "source": [
        "# F. u*v\n",
        "u * v"
      ]
    },
    {
      "cell_type": "code",
      "execution_count": 12,
      "metadata": {
        "colab": {
          "base_uri": "https://localhost:8080/"
        },
        "id": "xGo4MO7I96D6",
        "outputId": "c71f69db-95c0-4b4d-f28f-f991ad78bd13"
      },
      "outputs": [
        {
          "output_type": "execute_result",
          "data": {
            "text/plain": [
              "array([[ 2,  4,  0],\n",
              "       [ 6, -2,  8]])"
            ]
          },
          "metadata": {},
          "execution_count": 12
        }
      ],
      "source": [
        "# G. A + A \n",
        "A + A\n",
        "# np.add(A, A)"
      ]
    },
    {
      "cell_type": "code",
      "execution_count": 13,
      "metadata": {
        "colab": {
          "base_uri": "https://localhost:8080/"
        },
        "id": "izsGobOL96D8",
        "outputId": "5faffeb5-a5c3-4365-8c92-f25468cee80c"
      },
      "outputs": [
        {
          "output_type": "execute_result",
          "data": {
            "text/plain": [
              "array([[ 3, -5,  1],\n",
              "       [ 5, -8,  5]])"
            ]
          },
          "metadata": {},
          "execution_count": 13
        }
      ],
      "source": [
        "# H. A + u\n",
        "A + u\n",
        "# np.add(A, u)"
      ]
    },
    {
      "cell_type": "code",
      "execution_count": 14,
      "metadata": {
        "colab": {
          "base_uri": "https://localhost:8080/"
        },
        "id": "S_6lt-Dg96D8",
        "outputId": "e94efaa8-af6b-456f-e9ff-81a358ea944e"
      },
      "outputs": [
        {
          "output_type": "execute_result",
          "data": {
            "text/plain": [
              "array([[ 10,  20,   0],\n",
              "       [ 30, -10,  40]])"
            ]
          },
          "metadata": {},
          "execution_count": 14
        }
      ],
      "source": [
        "# I. 10A\n",
        "10 * A\n",
        "# np.multiply(10, A)"
      ]
    },
    {
      "cell_type": "code",
      "execution_count": 15,
      "metadata": {
        "colab": {
          "base_uri": "https://localhost:8080/"
        },
        "id": "EpNwmuMk96D8",
        "outputId": "4871d61f-b968-4e74-c1e2-f6ef1d85d3af"
      },
      "outputs": [
        {
          "output_type": "execute_result",
          "data": {
            "text/plain": [
              "array([-3,  7])"
            ]
          },
          "metadata": {},
          "execution_count": 15
        }
      ],
      "source": [
        "# J. Av\n",
        "np.dot(A, v)\n",
        "# A.dot(v)"
      ]
    },
    {
      "cell_type": "code",
      "execution_count": 16,
      "metadata": {
        "colab": {
          "base_uri": "https://localhost:8080/"
        },
        "id": "8MC_Ad9-96D9",
        "outputId": "1de5546a-a760-4eda-dc94-8a6754872b30"
      },
      "outputs": [
        {
          "output_type": "execute_result",
          "data": {
            "text/plain": [
              "array([[ 4, -1],\n",
              "       [-7, 13]])"
            ]
          },
          "metadata": {},
          "execution_count": 16
        }
      ],
      "source": [
        "# K. AB\n",
        "np.dot(A, B)\n",
        "# A.dot(B)"
      ]
    },
    {
      "cell_type": "code",
      "execution_count": 17,
      "metadata": {
        "colab": {
          "base_uri": "https://localhost:8080/"
        },
        "id": "vqU8iPBg96D9",
        "outputId": "8711cc38-0706-4477-bffc-ebca638a5618"
      },
      "outputs": [
        {
          "output_type": "execute_result",
          "data": {
            "text/plain": [
              "array([[ 1,  3],\n",
              "       [ 2, -1],\n",
              "       [ 0,  4]])"
            ]
          },
          "metadata": {},
          "execution_count": 17
        }
      ],
      "source": [
        "# L. A^T\n",
        "A.transpose()"
      ]
    },
    {
      "cell_type": "code",
      "execution_count": 18,
      "metadata": {
        "colab": {
          "base_uri": "https://localhost:8080/"
        },
        "id": "hISK-5hC96D9",
        "outputId": "6aec02eb-4f50-445b-e2a1-b6305adb75f9"
      },
      "outputs": [
        {
          "output_type": "execute_result",
          "data": {
            "text/plain": [
              "array([[ 5,  1],\n",
              "       [ 1, 26]])"
            ]
          },
          "metadata": {},
          "execution_count": 18
        }
      ],
      "source": [
        "# M. AA^T\n",
        "np.dot(A, A.transpose())\n",
        "# A.dot(A.transpose())"
      ]
    },
    {
      "cell_type": "code",
      "execution_count": 19,
      "metadata": {
        "colab": {
          "base_uri": "https://localhost:8080/"
        },
        "id": "S0qZbFfI96D-",
        "outputId": "64bc06eb-9cc4-4b7d-8463-d6da7c718b54"
      },
      "outputs": [
        {
          "output_type": "execute_result",
          "data": {
            "text/plain": [
              "array([[10, -1, 12],\n",
              "       [-1,  5, -4],\n",
              "       [12, -4, 16]])"
            ]
          },
          "metadata": {},
          "execution_count": 19
        }
      ],
      "source": [
        "# N. A^TA\n",
        "np.dot(A.transpose(), A)\n",
        "# A.transpose().dot(A)"
      ]
    },
    {
      "cell_type": "code",
      "execution_count": 20,
      "metadata": {
        "colab": {
          "base_uri": "https://localhost:8080/"
        },
        "id": "Jbzg4EHr96D-",
        "outputId": "6ae92fdb-e175-4a6a-c36f-d6c937cb0502"
      },
      "outputs": [
        {
          "output_type": "execute_result",
          "data": {
            "text/plain": [
              "-7"
            ]
          },
          "metadata": {},
          "execution_count": 20
        }
      ],
      "source": [
        "# O. smallest element in u\n",
        "np.min(u)"
      ]
    },
    {
      "cell_type": "code",
      "execution_count": 21,
      "metadata": {
        "colab": {
          "base_uri": "https://localhost:8080/"
        },
        "id": "CvbYk_ev96D-",
        "outputId": "0153d975-d17f-4492-8bbf-fe751cd881e6"
      },
      "outputs": [
        {
          "output_type": "execute_result",
          "data": {
            "text/plain": [
              "1"
            ]
          },
          "metadata": {},
          "execution_count": 21
        }
      ],
      "source": [
        "# P. index of smallest element in u\n",
        "np.argmin(u)"
      ]
    },
    {
      "cell_type": "code",
      "execution_count": 22,
      "metadata": {
        "colab": {
          "base_uri": "https://localhost:8080/"
        },
        "id": "-3jSzOpJ96D-",
        "outputId": "64842ccb-859f-49e1-f40d-574641c68b3f"
      },
      "outputs": [
        {
          "output_type": "execute_result",
          "data": {
            "text/plain": [
              "-1.3333333333333333"
            ]
          },
          "metadata": {},
          "execution_count": 22
        }
      ],
      "source": [
        "# Q. average of elements in u\n",
        "np.average(u)"
      ]
    },
    {
      "cell_type": "code",
      "execution_count": 23,
      "metadata": {
        "colab": {
          "base_uri": "https://localhost:8080/"
        },
        "id": "1_KAn6GA96D_",
        "outputId": "09e46229-b63d-4329-c4cd-d2ff73d15e5e"
      },
      "outputs": [
        {
          "output_type": "execute_result",
          "data": {
            "text/plain": [
              "array([ 2, -5, -4])"
            ]
          },
          "metadata": {},
          "execution_count": 23
        }
      ],
      "source": [
        "# Question 2\n",
        "np.cumsum(u)"
      ]
    },
    {
      "cell_type": "code",
      "execution_count": 24,
      "metadata": {
        "id": "06Mbrnk496D_"
      },
      "outputs": [],
      "source": [
        "def list_cumsum(input_list:list):\n",
        "    result = []\n",
        "    current_total = 0\n",
        "    for element in input_list:\n",
        "        current_total += element\n",
        "        result.append(current_total)\n",
        "    return result"
      ]
    },
    {
      "cell_type": "code",
      "execution_count": 25,
      "metadata": {
        "colab": {
          "base_uri": "https://localhost:8080/"
        },
        "id": "d2KrnNMt96D_",
        "outputId": "9a9cf57e-4767-4756-f24c-cb5ad783f855"
      },
      "outputs": [
        {
          "output_type": "execute_result",
          "data": {
            "text/plain": [
              "[2, -5, -4]"
            ]
          },
          "metadata": {},
          "execution_count": 25
        }
      ],
      "source": [
        "list_u = u.tolist()\n",
        "list_cumsum(list_u)"
      ]
    },
    {
      "cell_type": "code",
      "execution_count": 64,
      "metadata": {
        "colab": {
          "base_uri": "https://localhost:8080/"
        },
        "id": "5UlmHYjK96EB",
        "outputId": "39b95607-f159-4b12-a47e-d046401b4df8"
      },
      "outputs": [
        {
          "output_type": "stream",
          "name": "stdout",
          "text": [
            "4.67 µs ± 68.5 ns per loop (mean ± std. dev. of 7 runs, 100000 loops each)\n"
          ]
        }
      ],
      "source": [
        "# compare timings\n",
        "import timeit\n",
        "list_input = [i for i in range(0, 1001)]\n",
        "nparray_input = np.arange(0, 1001)\n",
        "\n",
        "%timeit np.cumsum(nparray_input)"
      ]
    },
    {
      "cell_type": "code",
      "execution_count": 65,
      "metadata": {
        "colab": {
          "base_uri": "https://localhost:8080/"
        },
        "id": "XjYBRE7A96EB",
        "outputId": "a107449a-3c9e-4d99-d211-2e316b769c3c"
      },
      "outputs": [
        {
          "output_type": "stream",
          "name": "stdout",
          "text": [
            "107 µs ± 946 ns per loop (mean ± std. dev. of 7 runs, 10000 loops each)\n"
          ]
        }
      ],
      "source": [
        "# compare timings\n",
        "%timeit list_cumsum(list_input)"
      ]
    }
  ],
  "metadata": {
    "kernelspec": {
      "display_name": "Python 3 (ipykernel)",
      "language": "python",
      "name": "python3"
    },
    "language_info": {
      "codemirror_mode": {
        "name": "ipython",
        "version": 3
      },
      "file_extension": ".py",
      "mimetype": "text/x-python",
      "name": "python",
      "nbconvert_exporter": "python",
      "pygments_lexer": "ipython3",
      "version": "3.8.10"
    },
    "colab": {
      "provenance": [],
      "include_colab_link": true
    }
  },
  "nbformat": 4,
  "nbformat_minor": 0
}