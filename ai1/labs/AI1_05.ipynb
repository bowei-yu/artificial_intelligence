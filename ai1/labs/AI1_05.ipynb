{
  "cells": [
    {
      "cell_type": "markdown",
      "metadata": {
        "id": "view-in-github",
        "colab_type": "text"
      },
      "source": [
        "<a href=\"https://colab.research.google.com/github/bowei-yu/artificial_intelligence/blob/master/ai1/labs/AI1_05.ipynb\" target=\"_parent\"><img src=\"https://colab.research.google.com/assets/colab-badge.svg\" alt=\"Open In Colab\"/></a>"
      ]
    },
    {
      "cell_type": "markdown",
      "metadata": {
        "id": "oD5awIURbFy9"
      },
      "source": [
        "<h1>05 Logistic Regression</h1>"
      ]
    },
    {
      "cell_type": "code",
      "execution_count": 200,
      "metadata": {
        "id": "7fKInRAxbFy-",
        "outputId": "35a2778e-1094-49df-c21e-e58195ac7bfa",
        "colab": {
          "base_uri": "https://localhost:8080/"
        }
      },
      "outputs": [
        {
          "output_type": "stream",
          "name": "stdout",
          "text": [
            "The autoreload extension is already loaded. To reload it, use:\n",
            "  %reload_ext autoreload\n"
          ]
        }
      ],
      "source": [
        "%load_ext autoreload\n",
        "%autoreload 2\n",
        "%matplotlib inline"
      ]
    },
    {
      "cell_type": "code",
      "execution_count": 201,
      "metadata": {
        "id": "vvIxsdkQbFy_"
      },
      "outputs": [],
      "source": [
        "import pandas as pd\n",
        "import numpy as np\n",
        "\n",
        "from seaborn import lmplot, stripplot, scatterplot, heatmap\n",
        "\n",
        "from sklearn.model_selection import train_test_split\n",
        "\n",
        "from sklearn.compose import ColumnTransformer\n",
        "from sklearn.impute import SimpleImputer\n",
        "from sklearn.pipeline import Pipeline\n",
        "\n",
        "from sklearn.preprocessing import LabelEncoder\n",
        "from sklearn.preprocessing import StandardScaler\n",
        "from sklearn.preprocessing import OneHotEncoder\n",
        "\n",
        "from sklearn.base import BaseEstimator, TransformerMixin\n",
        "\n",
        "from sklearn.linear_model import LogisticRegression\n",
        "from sklearn.neighbors import KNeighborsClassifier\n",
        "\n",
        "from sklearn.model_selection import GridSearchCV\n",
        "\n",
        "from sklearn.metrics import accuracy_score\n",
        "from pandas.plotting import scatter_matrix"
      ]
    },
    {
      "cell_type": "markdown",
      "metadata": {
        "id": "LMRHE41rbFzB"
      },
      "source": [
        "<h1>Introductory Remarks</h1>\n",
        "<ul>\n",
        "    <li>We're going to predict whether someone if over the drink-drive limit or not.</li>\n",
        "    <li>This is classification, not regression.</li>\n",
        "    <li>We have a dataset collected by some friends of mine. TBH it is too small to do anything reliable.</li>\n",
        "    <li>We use logistic regression, not linear regression, and we measure accuracy, not mean absolute error.</li>\n",
        "</ul>"
      ]
    },
    {
      "cell_type": "markdown",
      "metadata": {
        "id": "qbq4dMUdbFzB"
      },
      "source": [
        "<p>\n",
        "    <strong>This notebook is incomplete. Your job is to complete it.</strong>\n",
        "</p>"
      ]
    },
    {
      "cell_type": "markdown",
      "metadata": {
        "id": "VSDpl2nLbFzC"
      },
      "source": [
        "<h1>Read in and Check the Data</h1>"
      ]
    },
    {
      "cell_type": "code",
      "execution_count": 202,
      "metadata": {
        "id": "pLJ5DcnEbFzD"
      },
      "outputs": [],
      "source": [
        "# Use pandas to read the CSV file into a DataFrame\n",
        "df = pd.read_csv(\"https://raw.githubusercontent.com/bowei-yu/artificial_intelligence/master/ai1/datasets/dataset_alcohol.csv\")\n",
        "\n",
        "# Shuffle the dataset\n",
        "df = df.sample(frac=1, random_state=2)\n",
        "df.reset_index(drop=True, inplace=True)"
      ]
    },
    {
      "cell_type": "code",
      "execution_count": 203,
      "metadata": {
        "id": "0HN-f8ClbFzE",
        "outputId": "75361f42-14c8-499c-ed1a-fdbb31bb27f9",
        "colab": {
          "base_uri": "https://localhost:8080/"
        }
      },
      "outputs": [
        {
          "output_type": "execute_result",
          "data": {
            "text/plain": [
              "(76, 9)"
            ]
          },
          "metadata": {},
          "execution_count": 203
        }
      ],
      "source": [
        "df.shape"
      ]
    },
    {
      "cell_type": "code",
      "execution_count": 204,
      "metadata": {
        "id": "S_b2F1VgbFzF",
        "outputId": "fbe12614-1254-4b37-cb39-8e574833b944",
        "colab": {
          "base_uri": "https://localhost:8080/"
        }
      },
      "outputs": [
        {
          "output_type": "execute_result",
          "data": {
            "text/plain": [
              "Index(['age_yrs', 'height_cm', 'weight_kg', 'duration_mins', 'elapsed_mins',\n",
              "       'sex', 'last_meal', 'units', 'over_limit'],\n",
              "      dtype='object')"
            ]
          },
          "metadata": {},
          "execution_count": 204
        }
      ],
      "source": [
        "df.columns"
      ]
    },
    {
      "cell_type": "code",
      "execution_count": 205,
      "metadata": {
        "id": "i5lj1JdcbFzH"
      },
      "outputs": [],
      "source": [
        "features = ['age_yrs', 'height_cm', 'weight_kg', 'duration_mins', 'elapsed_mins', 'sex', 'last_meal', 'units', 'gender_constant']"
      ]
    },
    {
      "cell_type": "code",
      "execution_count": 206,
      "metadata": {
        "id": "VtBfXvQ2bFzH"
      },
      "outputs": [],
      "source": [
        "numeric_features = ['age_yrs', 'height_cm', 'weight_kg', 'duration_mins', 'elapsed_mins', 'units', 'gender_constant']"
      ]
    },
    {
      "cell_type": "code",
      "execution_count": 207,
      "metadata": {
        "id": "gs1vChZqbFzH"
      },
      "outputs": [],
      "source": [
        "nominal_features = ['sex', 'last_meal']"
      ]
    },
    {
      "cell_type": "markdown",
      "metadata": {
        "id": "ikUiV0B_bFzJ"
      },
      "source": [
        "<p>\n",
        "    It's your job now to inspect the data. Determine whether there is any cleaning needed.\n",
        "</p>"
      ]
    },
    {
      "cell_type": "code",
      "execution_count": 208,
      "metadata": {
        "id": "5XVOf6b5bFzJ",
        "outputId": "39b2397f-8fa2-4e5d-d000-f807092dd252",
        "colab": {
          "base_uri": "https://localhost:8080/"
        }
      },
      "outputs": [
        {
          "output_type": "stream",
          "name": "stdout",
          "text": [
            "<class 'pandas.core.frame.DataFrame'>\n",
            "RangeIndex: 76 entries, 0 to 75\n",
            "Data columns (total 9 columns):\n",
            " #   Column         Non-Null Count  Dtype  \n",
            "---  ------         --------------  -----  \n",
            " 0   age_yrs        76 non-null     int64  \n",
            " 1   height_cm      76 non-null     int64  \n",
            " 2   weight_kg      76 non-null     int64  \n",
            " 3   duration_mins  76 non-null     object \n",
            " 4   elapsed_mins   76 non-null     object \n",
            " 5   sex            76 non-null     object \n",
            " 6   last_meal      76 non-null     object \n",
            " 7   units          76 non-null     float64\n",
            " 8   over_limit     76 non-null     object \n",
            "dtypes: float64(1), int64(3), object(5)\n",
            "memory usage: 5.5+ KB\n"
          ]
        }
      ],
      "source": [
        "df.info()"
      ]
    },
    {
      "cell_type": "code",
      "execution_count": 209,
      "metadata": {
        "id": "y5d49MFRbFzK",
        "outputId": "be06c7a8-2072-4091-8646-16d91c97ad3a",
        "colab": {
          "base_uri": "https://localhost:8080/"
        }
      },
      "outputs": [
        {
          "output_type": "stream",
          "name": "stdout",
          "text": [
            "sex ['Male' 'Female']\n",
            "last_meal ['Snack' 'Lunch' 'Full' 'None' '?']\n"
          ]
        }
      ],
      "source": [
        "for feature in nominal_features:\n",
        "    print(feature, df[feature].unique())"
      ]
    },
    {
      "cell_type": "code",
      "execution_count": 210,
      "metadata": {
        "id": "EjYwcZUdbFzK",
        "outputId": "967b0fbe-c88a-47b8-c5b0-e6c8ac590a50",
        "colab": {
          "base_uri": "https://localhost:8080/",
          "height": 476
        }
      },
      "outputs": [
        {
          "output_type": "stream",
          "name": "stdout",
          "text": [
            "Column 'sex' cannot be converted to float. Skipping!\n",
            "Column 'last_meal' cannot be converted to float. Skipping!\n",
            "Column 'over_limit' cannot be converted to float. Skipping!\n"
          ]
        },
        {
          "output_type": "execute_result",
          "data": {
            "text/plain": [
              "    age_yrs  height_cm  weight_kg  duration_mins  elapsed_mins     sex  \\\n",
              "0        21        185         85          315.0          10.0    Male   \n",
              "1        34        187         95          240.0           5.0    Male   \n",
              "2        23        200        101           60.0          10.0    Male   \n",
              "3        26        177         76           60.0          10.0    Male   \n",
              "4        19        175         69           30.0          10.0    Male   \n",
              "..      ...        ...        ...            ...           ...     ...   \n",
              "71       20        170         63          270.0          10.0  Female   \n",
              "72       28        185         88          120.0          10.0    Male   \n",
              "73       22        177         82          300.0          10.0    Male   \n",
              "74       21        177         88           90.0          10.0    Male   \n",
              "75       19        165         60           60.0          10.0  Female   \n",
              "\n",
              "   last_meal  units over_limit  \n",
              "0      Snack   19.7        Yes  \n",
              "1      Lunch   10.2         No  \n",
              "2      Snack    4.8         No  \n",
              "3       Full    2.9         No  \n",
              "4       Full    2.6         No  \n",
              "..       ...    ...        ...  \n",
              "71     Lunch    5.9         No  \n",
              "72      Full    5.2         No  \n",
              "73     Snack   15.0        Yes  \n",
              "74      Full    5.2         No  \n",
              "75     Lunch    1.3         No  \n",
              "\n",
              "[73 rows x 9 columns]"
            ],
            "text/html": [
              "\n",
              "  <div id=\"df-5bb77fef-8714-4216-9361-728349efd1fa\">\n",
              "    <div class=\"colab-df-container\">\n",
              "      <div>\n",
              "<style scoped>\n",
              "    .dataframe tbody tr th:only-of-type {\n",
              "        vertical-align: middle;\n",
              "    }\n",
              "\n",
              "    .dataframe tbody tr th {\n",
              "        vertical-align: top;\n",
              "    }\n",
              "\n",
              "    .dataframe thead th {\n",
              "        text-align: right;\n",
              "    }\n",
              "</style>\n",
              "<table border=\"1\" class=\"dataframe\">\n",
              "  <thead>\n",
              "    <tr style=\"text-align: right;\">\n",
              "      <th></th>\n",
              "      <th>age_yrs</th>\n",
              "      <th>height_cm</th>\n",
              "      <th>weight_kg</th>\n",
              "      <th>duration_mins</th>\n",
              "      <th>elapsed_mins</th>\n",
              "      <th>sex</th>\n",
              "      <th>last_meal</th>\n",
              "      <th>units</th>\n",
              "      <th>over_limit</th>\n",
              "    </tr>\n",
              "  </thead>\n",
              "  <tbody>\n",
              "    <tr>\n",
              "      <th>0</th>\n",
              "      <td>21</td>\n",
              "      <td>185</td>\n",
              "      <td>85</td>\n",
              "      <td>315.0</td>\n",
              "      <td>10.0</td>\n",
              "      <td>Male</td>\n",
              "      <td>Snack</td>\n",
              "      <td>19.7</td>\n",
              "      <td>Yes</td>\n",
              "    </tr>\n",
              "    <tr>\n",
              "      <th>1</th>\n",
              "      <td>34</td>\n",
              "      <td>187</td>\n",
              "      <td>95</td>\n",
              "      <td>240.0</td>\n",
              "      <td>5.0</td>\n",
              "      <td>Male</td>\n",
              "      <td>Lunch</td>\n",
              "      <td>10.2</td>\n",
              "      <td>No</td>\n",
              "    </tr>\n",
              "    <tr>\n",
              "      <th>2</th>\n",
              "      <td>23</td>\n",
              "      <td>200</td>\n",
              "      <td>101</td>\n",
              "      <td>60.0</td>\n",
              "      <td>10.0</td>\n",
              "      <td>Male</td>\n",
              "      <td>Snack</td>\n",
              "      <td>4.8</td>\n",
              "      <td>No</td>\n",
              "    </tr>\n",
              "    <tr>\n",
              "      <th>3</th>\n",
              "      <td>26</td>\n",
              "      <td>177</td>\n",
              "      <td>76</td>\n",
              "      <td>60.0</td>\n",
              "      <td>10.0</td>\n",
              "      <td>Male</td>\n",
              "      <td>Full</td>\n",
              "      <td>2.9</td>\n",
              "      <td>No</td>\n",
              "    </tr>\n",
              "    <tr>\n",
              "      <th>4</th>\n",
              "      <td>19</td>\n",
              "      <td>175</td>\n",
              "      <td>69</td>\n",
              "      <td>30.0</td>\n",
              "      <td>10.0</td>\n",
              "      <td>Male</td>\n",
              "      <td>Full</td>\n",
              "      <td>2.6</td>\n",
              "      <td>No</td>\n",
              "    </tr>\n",
              "    <tr>\n",
              "      <th>...</th>\n",
              "      <td>...</td>\n",
              "      <td>...</td>\n",
              "      <td>...</td>\n",
              "      <td>...</td>\n",
              "      <td>...</td>\n",
              "      <td>...</td>\n",
              "      <td>...</td>\n",
              "      <td>...</td>\n",
              "      <td>...</td>\n",
              "    </tr>\n",
              "    <tr>\n",
              "      <th>71</th>\n",
              "      <td>20</td>\n",
              "      <td>170</td>\n",
              "      <td>63</td>\n",
              "      <td>270.0</td>\n",
              "      <td>10.0</td>\n",
              "      <td>Female</td>\n",
              "      <td>Lunch</td>\n",
              "      <td>5.9</td>\n",
              "      <td>No</td>\n",
              "    </tr>\n",
              "    <tr>\n",
              "      <th>72</th>\n",
              "      <td>28</td>\n",
              "      <td>185</td>\n",
              "      <td>88</td>\n",
              "      <td>120.0</td>\n",
              "      <td>10.0</td>\n",
              "      <td>Male</td>\n",
              "      <td>Full</td>\n",
              "      <td>5.2</td>\n",
              "      <td>No</td>\n",
              "    </tr>\n",
              "    <tr>\n",
              "      <th>73</th>\n",
              "      <td>22</td>\n",
              "      <td>177</td>\n",
              "      <td>82</td>\n",
              "      <td>300.0</td>\n",
              "      <td>10.0</td>\n",
              "      <td>Male</td>\n",
              "      <td>Snack</td>\n",
              "      <td>15.0</td>\n",
              "      <td>Yes</td>\n",
              "    </tr>\n",
              "    <tr>\n",
              "      <th>74</th>\n",
              "      <td>21</td>\n",
              "      <td>177</td>\n",
              "      <td>88</td>\n",
              "      <td>90.0</td>\n",
              "      <td>10.0</td>\n",
              "      <td>Male</td>\n",
              "      <td>Full</td>\n",
              "      <td>5.2</td>\n",
              "      <td>No</td>\n",
              "    </tr>\n",
              "    <tr>\n",
              "      <th>75</th>\n",
              "      <td>19</td>\n",
              "      <td>165</td>\n",
              "      <td>60</td>\n",
              "      <td>60.0</td>\n",
              "      <td>10.0</td>\n",
              "      <td>Female</td>\n",
              "      <td>Lunch</td>\n",
              "      <td>1.3</td>\n",
              "      <td>No</td>\n",
              "    </tr>\n",
              "  </tbody>\n",
              "</table>\n",
              "<p>73 rows × 9 columns</p>\n",
              "</div>\n",
              "      <button class=\"colab-df-convert\" onclick=\"convertToInteractive('df-5bb77fef-8714-4216-9361-728349efd1fa')\"\n",
              "              title=\"Convert this dataframe to an interactive table.\"\n",
              "              style=\"display:none;\">\n",
              "        \n",
              "  <svg xmlns=\"http://www.w3.org/2000/svg\" height=\"24px\"viewBox=\"0 0 24 24\"\n",
              "       width=\"24px\">\n",
              "    <path d=\"M0 0h24v24H0V0z\" fill=\"none\"/>\n",
              "    <path d=\"M18.56 5.44l.94 2.06.94-2.06 2.06-.94-2.06-.94-.94-2.06-.94 2.06-2.06.94zm-11 1L8.5 8.5l.94-2.06 2.06-.94-2.06-.94L8.5 2.5l-.94 2.06-2.06.94zm10 10l.94 2.06.94-2.06 2.06-.94-2.06-.94-.94-2.06-.94 2.06-2.06.94z\"/><path d=\"M17.41 7.96l-1.37-1.37c-.4-.4-.92-.59-1.43-.59-.52 0-1.04.2-1.43.59L10.3 9.45l-7.72 7.72c-.78.78-.78 2.05 0 2.83L4 21.41c.39.39.9.59 1.41.59.51 0 1.02-.2 1.41-.59l7.78-7.78 2.81-2.81c.8-.78.8-2.07 0-2.86zM5.41 20L4 18.59l7.72-7.72 1.47 1.35L5.41 20z\"/>\n",
              "  </svg>\n",
              "      </button>\n",
              "      \n",
              "  <style>\n",
              "    .colab-df-container {\n",
              "      display:flex;\n",
              "      flex-wrap:wrap;\n",
              "      gap: 12px;\n",
              "    }\n",
              "\n",
              "    .colab-df-convert {\n",
              "      background-color: #E8F0FE;\n",
              "      border: none;\n",
              "      border-radius: 50%;\n",
              "      cursor: pointer;\n",
              "      display: none;\n",
              "      fill: #1967D2;\n",
              "      height: 32px;\n",
              "      padding: 0 0 0 0;\n",
              "      width: 32px;\n",
              "    }\n",
              "\n",
              "    .colab-df-convert:hover {\n",
              "      background-color: #E2EBFA;\n",
              "      box-shadow: 0px 1px 2px rgba(60, 64, 67, 0.3), 0px 1px 3px 1px rgba(60, 64, 67, 0.15);\n",
              "      fill: #174EA6;\n",
              "    }\n",
              "\n",
              "    [theme=dark] .colab-df-convert {\n",
              "      background-color: #3B4455;\n",
              "      fill: #D2E3FC;\n",
              "    }\n",
              "\n",
              "    [theme=dark] .colab-df-convert:hover {\n",
              "      background-color: #434B5C;\n",
              "      box-shadow: 0px 1px 3px 1px rgba(0, 0, 0, 0.15);\n",
              "      filter: drop-shadow(0px 1px 2px rgba(0, 0, 0, 0.3));\n",
              "      fill: #FFFFFF;\n",
              "    }\n",
              "  </style>\n",
              "\n",
              "      <script>\n",
              "        const buttonEl =\n",
              "          document.querySelector('#df-5bb77fef-8714-4216-9361-728349efd1fa button.colab-df-convert');\n",
              "        buttonEl.style.display =\n",
              "          google.colab.kernel.accessAllowed ? 'block' : 'none';\n",
              "\n",
              "        async function convertToInteractive(key) {\n",
              "          const element = document.querySelector('#df-5bb77fef-8714-4216-9361-728349efd1fa');\n",
              "          const dataTable =\n",
              "            await google.colab.kernel.invokeFunction('convertToInteractive',\n",
              "                                                     [key], {});\n",
              "          if (!dataTable) return;\n",
              "\n",
              "          const docLinkHtml = 'Like what you see? Visit the ' +\n",
              "            '<a target=\"_blank\" href=https://colab.research.google.com/notebooks/data_table.ipynb>data table notebook</a>'\n",
              "            + ' to learn more about interactive tables.';\n",
              "          element.innerHTML = '';\n",
              "          dataTable['output_type'] = 'display_data';\n",
              "          await google.colab.output.renderOutput(dataTable, element);\n",
              "          const docLink = document.createElement('div');\n",
              "          docLink.innerHTML = docLinkHtml;\n",
              "          element.appendChild(docLink);\n",
              "        }\n",
              "      </script>\n",
              "    </div>\n",
              "  </div>\n",
              "  "
            ]
          },
          "metadata": {},
          "execution_count": 210
        }
      ],
      "source": [
        "for col in df:\n",
        "    df = df[~df[col].astype(str).str.contains('\\?')] # drop them because these people haven't been drinking\n",
        "    if (df[col].dtype == object):\n",
        "        try:\n",
        "            df[col] = df[col].astype(float)\n",
        "        except ValueError as e:\n",
        "            print(\"Column '{}' cannot be converted to float. Skipping!\".format(col))\n",
        "df"
      ]
    },
    {
      "cell_type": "code",
      "execution_count": 211,
      "metadata": {
        "id": "pJbhjTeAbFzL",
        "outputId": "6f8d4413-8ecd-4711-cd82-3c347349d116",
        "colab": {
          "base_uri": "https://localhost:8080/",
          "height": 394
        }
      },
      "outputs": [
        {
          "output_type": "execute_result",
          "data": {
            "text/plain": [
              "          age_yrs   height_cm   weight_kg  duration_mins  elapsed_mins   sex  \\\n",
              "count   73.000000   73.000000   73.000000      73.000000     73.000000    73   \n",
              "unique        NaN         NaN         NaN            NaN           NaN     2   \n",
              "top           NaN         NaN         NaN            NaN           NaN  Male   \n",
              "freq          NaN         NaN         NaN            NaN           NaN    58   \n",
              "mean    22.479452  176.821918   71.712329     157.397260     16.369863   NaN   \n",
              "std      5.336222    8.554308   11.558402     100.588924     25.539461   NaN   \n",
              "min     18.000000  157.000000   47.000000       5.000000      5.000000   NaN   \n",
              "25%     19.000000  172.000000   63.000000      90.000000     10.000000   NaN   \n",
              "50%     21.000000  177.000000   72.000000     120.000000     10.000000   NaN   \n",
              "75%     23.000000  182.000000   79.000000     240.000000     10.000000   NaN   \n",
              "max     45.000000  200.000000  101.000000     435.000000    180.000000   NaN   \n",
              "\n",
              "       last_meal      units over_limit  \n",
              "count         73  73.000000         73  \n",
              "unique         4        NaN          2  \n",
              "top         Full        NaN         No  \n",
              "freq          32        NaN         43  \n",
              "mean         NaN   8.926027        NaN  \n",
              "std          NaN   5.687926        NaN  \n",
              "min          NaN   1.200000        NaN  \n",
              "25%          NaN   4.800000        NaN  \n",
              "50%          NaN   9.100000        NaN  \n",
              "75%          NaN  12.400000        NaN  \n",
              "max          NaN  31.200000        NaN  "
            ],
            "text/html": [
              "\n",
              "  <div id=\"df-f2fb63cf-dacb-443c-abc4-22a80dbc6e76\">\n",
              "    <div class=\"colab-df-container\">\n",
              "      <div>\n",
              "<style scoped>\n",
              "    .dataframe tbody tr th:only-of-type {\n",
              "        vertical-align: middle;\n",
              "    }\n",
              "\n",
              "    .dataframe tbody tr th {\n",
              "        vertical-align: top;\n",
              "    }\n",
              "\n",
              "    .dataframe thead th {\n",
              "        text-align: right;\n",
              "    }\n",
              "</style>\n",
              "<table border=\"1\" class=\"dataframe\">\n",
              "  <thead>\n",
              "    <tr style=\"text-align: right;\">\n",
              "      <th></th>\n",
              "      <th>age_yrs</th>\n",
              "      <th>height_cm</th>\n",
              "      <th>weight_kg</th>\n",
              "      <th>duration_mins</th>\n",
              "      <th>elapsed_mins</th>\n",
              "      <th>sex</th>\n",
              "      <th>last_meal</th>\n",
              "      <th>units</th>\n",
              "      <th>over_limit</th>\n",
              "    </tr>\n",
              "  </thead>\n",
              "  <tbody>\n",
              "    <tr>\n",
              "      <th>count</th>\n",
              "      <td>73.000000</td>\n",
              "      <td>73.000000</td>\n",
              "      <td>73.000000</td>\n",
              "      <td>73.000000</td>\n",
              "      <td>73.000000</td>\n",
              "      <td>73</td>\n",
              "      <td>73</td>\n",
              "      <td>73.000000</td>\n",
              "      <td>73</td>\n",
              "    </tr>\n",
              "    <tr>\n",
              "      <th>unique</th>\n",
              "      <td>NaN</td>\n",
              "      <td>NaN</td>\n",
              "      <td>NaN</td>\n",
              "      <td>NaN</td>\n",
              "      <td>NaN</td>\n",
              "      <td>2</td>\n",
              "      <td>4</td>\n",
              "      <td>NaN</td>\n",
              "      <td>2</td>\n",
              "    </tr>\n",
              "    <tr>\n",
              "      <th>top</th>\n",
              "      <td>NaN</td>\n",
              "      <td>NaN</td>\n",
              "      <td>NaN</td>\n",
              "      <td>NaN</td>\n",
              "      <td>NaN</td>\n",
              "      <td>Male</td>\n",
              "      <td>Full</td>\n",
              "      <td>NaN</td>\n",
              "      <td>No</td>\n",
              "    </tr>\n",
              "    <tr>\n",
              "      <th>freq</th>\n",
              "      <td>NaN</td>\n",
              "      <td>NaN</td>\n",
              "      <td>NaN</td>\n",
              "      <td>NaN</td>\n",
              "      <td>NaN</td>\n",
              "      <td>58</td>\n",
              "      <td>32</td>\n",
              "      <td>NaN</td>\n",
              "      <td>43</td>\n",
              "    </tr>\n",
              "    <tr>\n",
              "      <th>mean</th>\n",
              "      <td>22.479452</td>\n",
              "      <td>176.821918</td>\n",
              "      <td>71.712329</td>\n",
              "      <td>157.397260</td>\n",
              "      <td>16.369863</td>\n",
              "      <td>NaN</td>\n",
              "      <td>NaN</td>\n",
              "      <td>8.926027</td>\n",
              "      <td>NaN</td>\n",
              "    </tr>\n",
              "    <tr>\n",
              "      <th>std</th>\n",
              "      <td>5.336222</td>\n",
              "      <td>8.554308</td>\n",
              "      <td>11.558402</td>\n",
              "      <td>100.588924</td>\n",
              "      <td>25.539461</td>\n",
              "      <td>NaN</td>\n",
              "      <td>NaN</td>\n",
              "      <td>5.687926</td>\n",
              "      <td>NaN</td>\n",
              "    </tr>\n",
              "    <tr>\n",
              "      <th>min</th>\n",
              "      <td>18.000000</td>\n",
              "      <td>157.000000</td>\n",
              "      <td>47.000000</td>\n",
              "      <td>5.000000</td>\n",
              "      <td>5.000000</td>\n",
              "      <td>NaN</td>\n",
              "      <td>NaN</td>\n",
              "      <td>1.200000</td>\n",
              "      <td>NaN</td>\n",
              "    </tr>\n",
              "    <tr>\n",
              "      <th>25%</th>\n",
              "      <td>19.000000</td>\n",
              "      <td>172.000000</td>\n",
              "      <td>63.000000</td>\n",
              "      <td>90.000000</td>\n",
              "      <td>10.000000</td>\n",
              "      <td>NaN</td>\n",
              "      <td>NaN</td>\n",
              "      <td>4.800000</td>\n",
              "      <td>NaN</td>\n",
              "    </tr>\n",
              "    <tr>\n",
              "      <th>50%</th>\n",
              "      <td>21.000000</td>\n",
              "      <td>177.000000</td>\n",
              "      <td>72.000000</td>\n",
              "      <td>120.000000</td>\n",
              "      <td>10.000000</td>\n",
              "      <td>NaN</td>\n",
              "      <td>NaN</td>\n",
              "      <td>9.100000</td>\n",
              "      <td>NaN</td>\n",
              "    </tr>\n",
              "    <tr>\n",
              "      <th>75%</th>\n",
              "      <td>23.000000</td>\n",
              "      <td>182.000000</td>\n",
              "      <td>79.000000</td>\n",
              "      <td>240.000000</td>\n",
              "      <td>10.000000</td>\n",
              "      <td>NaN</td>\n",
              "      <td>NaN</td>\n",
              "      <td>12.400000</td>\n",
              "      <td>NaN</td>\n",
              "    </tr>\n",
              "    <tr>\n",
              "      <th>max</th>\n",
              "      <td>45.000000</td>\n",
              "      <td>200.000000</td>\n",
              "      <td>101.000000</td>\n",
              "      <td>435.000000</td>\n",
              "      <td>180.000000</td>\n",
              "      <td>NaN</td>\n",
              "      <td>NaN</td>\n",
              "      <td>31.200000</td>\n",
              "      <td>NaN</td>\n",
              "    </tr>\n",
              "  </tbody>\n",
              "</table>\n",
              "</div>\n",
              "      <button class=\"colab-df-convert\" onclick=\"convertToInteractive('df-f2fb63cf-dacb-443c-abc4-22a80dbc6e76')\"\n",
              "              title=\"Convert this dataframe to an interactive table.\"\n",
              "              style=\"display:none;\">\n",
              "        \n",
              "  <svg xmlns=\"http://www.w3.org/2000/svg\" height=\"24px\"viewBox=\"0 0 24 24\"\n",
              "       width=\"24px\">\n",
              "    <path d=\"M0 0h24v24H0V0z\" fill=\"none\"/>\n",
              "    <path d=\"M18.56 5.44l.94 2.06.94-2.06 2.06-.94-2.06-.94-.94-2.06-.94 2.06-2.06.94zm-11 1L8.5 8.5l.94-2.06 2.06-.94-2.06-.94L8.5 2.5l-.94 2.06-2.06.94zm10 10l.94 2.06.94-2.06 2.06-.94-2.06-.94-.94-2.06-.94 2.06-2.06.94z\"/><path d=\"M17.41 7.96l-1.37-1.37c-.4-.4-.92-.59-1.43-.59-.52 0-1.04.2-1.43.59L10.3 9.45l-7.72 7.72c-.78.78-.78 2.05 0 2.83L4 21.41c.39.39.9.59 1.41.59.51 0 1.02-.2 1.41-.59l7.78-7.78 2.81-2.81c.8-.78.8-2.07 0-2.86zM5.41 20L4 18.59l7.72-7.72 1.47 1.35L5.41 20z\"/>\n",
              "  </svg>\n",
              "      </button>\n",
              "      \n",
              "  <style>\n",
              "    .colab-df-container {\n",
              "      display:flex;\n",
              "      flex-wrap:wrap;\n",
              "      gap: 12px;\n",
              "    }\n",
              "\n",
              "    .colab-df-convert {\n",
              "      background-color: #E8F0FE;\n",
              "      border: none;\n",
              "      border-radius: 50%;\n",
              "      cursor: pointer;\n",
              "      display: none;\n",
              "      fill: #1967D2;\n",
              "      height: 32px;\n",
              "      padding: 0 0 0 0;\n",
              "      width: 32px;\n",
              "    }\n",
              "\n",
              "    .colab-df-convert:hover {\n",
              "      background-color: #E2EBFA;\n",
              "      box-shadow: 0px 1px 2px rgba(60, 64, 67, 0.3), 0px 1px 3px 1px rgba(60, 64, 67, 0.15);\n",
              "      fill: #174EA6;\n",
              "    }\n",
              "\n",
              "    [theme=dark] .colab-df-convert {\n",
              "      background-color: #3B4455;\n",
              "      fill: #D2E3FC;\n",
              "    }\n",
              "\n",
              "    [theme=dark] .colab-df-convert:hover {\n",
              "      background-color: #434B5C;\n",
              "      box-shadow: 0px 1px 3px 1px rgba(0, 0, 0, 0.15);\n",
              "      filter: drop-shadow(0px 1px 2px rgba(0, 0, 0, 0.3));\n",
              "      fill: #FFFFFF;\n",
              "    }\n",
              "  </style>\n",
              "\n",
              "      <script>\n",
              "        const buttonEl =\n",
              "          document.querySelector('#df-f2fb63cf-dacb-443c-abc4-22a80dbc6e76 button.colab-df-convert');\n",
              "        buttonEl.style.display =\n",
              "          google.colab.kernel.accessAllowed ? 'block' : 'none';\n",
              "\n",
              "        async function convertToInteractive(key) {\n",
              "          const element = document.querySelector('#df-f2fb63cf-dacb-443c-abc4-22a80dbc6e76');\n",
              "          const dataTable =\n",
              "            await google.colab.kernel.invokeFunction('convertToInteractive',\n",
              "                                                     [key], {});\n",
              "          if (!dataTable) return;\n",
              "\n",
              "          const docLinkHtml = 'Like what you see? Visit the ' +\n",
              "            '<a target=\"_blank\" href=https://colab.research.google.com/notebooks/data_table.ipynb>data table notebook</a>'\n",
              "            + ' to learn more about interactive tables.';\n",
              "          element.innerHTML = '';\n",
              "          dataTable['output_type'] = 'display_data';\n",
              "          await google.colab.output.renderOutput(dataTable, element);\n",
              "          const docLink = document.createElement('div');\n",
              "          docLink.innerHTML = docLinkHtml;\n",
              "          element.appendChild(docLink);\n",
              "        }\n",
              "      </script>\n",
              "    </div>\n",
              "  </div>\n",
              "  "
            ]
          },
          "metadata": {},
          "execution_count": 211
        }
      ],
      "source": [
        "df.describe(include=\"all\")"
      ]
    },
    {
      "cell_type": "code",
      "execution_count": 212,
      "metadata": {
        "id": "RQ9v1FS8bFzL",
        "outputId": "2b82ab0b-5585-4576-99d7-9a18f5de0b8c",
        "colab": {
          "base_uri": "https://localhost:8080/",
          "height": 424
        }
      },
      "outputs": [
        {
          "output_type": "execute_result",
          "data": {
            "text/plain": [
              "    age_yrs  height_cm  weight_kg  duration_mins  elapsed_mins     sex  \\\n",
              "0        21        185         85          315.0          10.0    Male   \n",
              "1        34        187         95          240.0           5.0    Male   \n",
              "2        23        200        101           60.0          10.0    Male   \n",
              "3        26        177         76           60.0          10.0    Male   \n",
              "4        19        175         69           30.0          10.0    Male   \n",
              "..      ...        ...        ...            ...           ...     ...   \n",
              "71       20        170         63          270.0          10.0  Female   \n",
              "72       28        185         88          120.0          10.0    Male   \n",
              "73       22        177         82          300.0          10.0    Male   \n",
              "74       21        177         88           90.0          10.0    Male   \n",
              "75       19        165         60           60.0          10.0  Female   \n",
              "\n",
              "   last_meal  units over_limit  gender_constant  \n",
              "0      Snack   19.7        Yes             0.68  \n",
              "1      Lunch   10.2         No             0.68  \n",
              "2      Snack    4.8         No             0.68  \n",
              "3       Full    2.9         No             0.68  \n",
              "4       Full    2.6         No             0.68  \n",
              "..       ...    ...        ...              ...  \n",
              "71     Lunch    5.9         No             0.55  \n",
              "72      Full    5.2         No             0.68  \n",
              "73     Snack   15.0        Yes             0.68  \n",
              "74      Full    5.2         No             0.68  \n",
              "75     Lunch    1.3         No             0.55  \n",
              "\n",
              "[73 rows x 10 columns]"
            ],
            "text/html": [
              "\n",
              "  <div id=\"df-e178f8b8-635a-439e-bc53-744aba1f6b73\">\n",
              "    <div class=\"colab-df-container\">\n",
              "      <div>\n",
              "<style scoped>\n",
              "    .dataframe tbody tr th:only-of-type {\n",
              "        vertical-align: middle;\n",
              "    }\n",
              "\n",
              "    .dataframe tbody tr th {\n",
              "        vertical-align: top;\n",
              "    }\n",
              "\n",
              "    .dataframe thead th {\n",
              "        text-align: right;\n",
              "    }\n",
              "</style>\n",
              "<table border=\"1\" class=\"dataframe\">\n",
              "  <thead>\n",
              "    <tr style=\"text-align: right;\">\n",
              "      <th></th>\n",
              "      <th>age_yrs</th>\n",
              "      <th>height_cm</th>\n",
              "      <th>weight_kg</th>\n",
              "      <th>duration_mins</th>\n",
              "      <th>elapsed_mins</th>\n",
              "      <th>sex</th>\n",
              "      <th>last_meal</th>\n",
              "      <th>units</th>\n",
              "      <th>over_limit</th>\n",
              "      <th>gender_constant</th>\n",
              "    </tr>\n",
              "  </thead>\n",
              "  <tbody>\n",
              "    <tr>\n",
              "      <th>0</th>\n",
              "      <td>21</td>\n",
              "      <td>185</td>\n",
              "      <td>85</td>\n",
              "      <td>315.0</td>\n",
              "      <td>10.0</td>\n",
              "      <td>Male</td>\n",
              "      <td>Snack</td>\n",
              "      <td>19.7</td>\n",
              "      <td>Yes</td>\n",
              "      <td>0.68</td>\n",
              "    </tr>\n",
              "    <tr>\n",
              "      <th>1</th>\n",
              "      <td>34</td>\n",
              "      <td>187</td>\n",
              "      <td>95</td>\n",
              "      <td>240.0</td>\n",
              "      <td>5.0</td>\n",
              "      <td>Male</td>\n",
              "      <td>Lunch</td>\n",
              "      <td>10.2</td>\n",
              "      <td>No</td>\n",
              "      <td>0.68</td>\n",
              "    </tr>\n",
              "    <tr>\n",
              "      <th>2</th>\n",
              "      <td>23</td>\n",
              "      <td>200</td>\n",
              "      <td>101</td>\n",
              "      <td>60.0</td>\n",
              "      <td>10.0</td>\n",
              "      <td>Male</td>\n",
              "      <td>Snack</td>\n",
              "      <td>4.8</td>\n",
              "      <td>No</td>\n",
              "      <td>0.68</td>\n",
              "    </tr>\n",
              "    <tr>\n",
              "      <th>3</th>\n",
              "      <td>26</td>\n",
              "      <td>177</td>\n",
              "      <td>76</td>\n",
              "      <td>60.0</td>\n",
              "      <td>10.0</td>\n",
              "      <td>Male</td>\n",
              "      <td>Full</td>\n",
              "      <td>2.9</td>\n",
              "      <td>No</td>\n",
              "      <td>0.68</td>\n",
              "    </tr>\n",
              "    <tr>\n",
              "      <th>4</th>\n",
              "      <td>19</td>\n",
              "      <td>175</td>\n",
              "      <td>69</td>\n",
              "      <td>30.0</td>\n",
              "      <td>10.0</td>\n",
              "      <td>Male</td>\n",
              "      <td>Full</td>\n",
              "      <td>2.6</td>\n",
              "      <td>No</td>\n",
              "      <td>0.68</td>\n",
              "    </tr>\n",
              "    <tr>\n",
              "      <th>...</th>\n",
              "      <td>...</td>\n",
              "      <td>...</td>\n",
              "      <td>...</td>\n",
              "      <td>...</td>\n",
              "      <td>...</td>\n",
              "      <td>...</td>\n",
              "      <td>...</td>\n",
              "      <td>...</td>\n",
              "      <td>...</td>\n",
              "      <td>...</td>\n",
              "    </tr>\n",
              "    <tr>\n",
              "      <th>71</th>\n",
              "      <td>20</td>\n",
              "      <td>170</td>\n",
              "      <td>63</td>\n",
              "      <td>270.0</td>\n",
              "      <td>10.0</td>\n",
              "      <td>Female</td>\n",
              "      <td>Lunch</td>\n",
              "      <td>5.9</td>\n",
              "      <td>No</td>\n",
              "      <td>0.55</td>\n",
              "    </tr>\n",
              "    <tr>\n",
              "      <th>72</th>\n",
              "      <td>28</td>\n",
              "      <td>185</td>\n",
              "      <td>88</td>\n",
              "      <td>120.0</td>\n",
              "      <td>10.0</td>\n",
              "      <td>Male</td>\n",
              "      <td>Full</td>\n",
              "      <td>5.2</td>\n",
              "      <td>No</td>\n",
              "      <td>0.68</td>\n",
              "    </tr>\n",
              "    <tr>\n",
              "      <th>73</th>\n",
              "      <td>22</td>\n",
              "      <td>177</td>\n",
              "      <td>82</td>\n",
              "      <td>300.0</td>\n",
              "      <td>10.0</td>\n",
              "      <td>Male</td>\n",
              "      <td>Snack</td>\n",
              "      <td>15.0</td>\n",
              "      <td>Yes</td>\n",
              "      <td>0.68</td>\n",
              "    </tr>\n",
              "    <tr>\n",
              "      <th>74</th>\n",
              "      <td>21</td>\n",
              "      <td>177</td>\n",
              "      <td>88</td>\n",
              "      <td>90.0</td>\n",
              "      <td>10.0</td>\n",
              "      <td>Male</td>\n",
              "      <td>Full</td>\n",
              "      <td>5.2</td>\n",
              "      <td>No</td>\n",
              "      <td>0.68</td>\n",
              "    </tr>\n",
              "    <tr>\n",
              "      <th>75</th>\n",
              "      <td>19</td>\n",
              "      <td>165</td>\n",
              "      <td>60</td>\n",
              "      <td>60.0</td>\n",
              "      <td>10.0</td>\n",
              "      <td>Female</td>\n",
              "      <td>Lunch</td>\n",
              "      <td>1.3</td>\n",
              "      <td>No</td>\n",
              "      <td>0.55</td>\n",
              "    </tr>\n",
              "  </tbody>\n",
              "</table>\n",
              "<p>73 rows × 10 columns</p>\n",
              "</div>\n",
              "      <button class=\"colab-df-convert\" onclick=\"convertToInteractive('df-e178f8b8-635a-439e-bc53-744aba1f6b73')\"\n",
              "              title=\"Convert this dataframe to an interactive table.\"\n",
              "              style=\"display:none;\">\n",
              "        \n",
              "  <svg xmlns=\"http://www.w3.org/2000/svg\" height=\"24px\"viewBox=\"0 0 24 24\"\n",
              "       width=\"24px\">\n",
              "    <path d=\"M0 0h24v24H0V0z\" fill=\"none\"/>\n",
              "    <path d=\"M18.56 5.44l.94 2.06.94-2.06 2.06-.94-2.06-.94-.94-2.06-.94 2.06-2.06.94zm-11 1L8.5 8.5l.94-2.06 2.06-.94-2.06-.94L8.5 2.5l-.94 2.06-2.06.94zm10 10l.94 2.06.94-2.06 2.06-.94-2.06-.94-.94-2.06-.94 2.06-2.06.94z\"/><path d=\"M17.41 7.96l-1.37-1.37c-.4-.4-.92-.59-1.43-.59-.52 0-1.04.2-1.43.59L10.3 9.45l-7.72 7.72c-.78.78-.78 2.05 0 2.83L4 21.41c.39.39.9.59 1.41.59.51 0 1.02-.2 1.41-.59l7.78-7.78 2.81-2.81c.8-.78.8-2.07 0-2.86zM5.41 20L4 18.59l7.72-7.72 1.47 1.35L5.41 20z\"/>\n",
              "  </svg>\n",
              "      </button>\n",
              "      \n",
              "  <style>\n",
              "    .colab-df-container {\n",
              "      display:flex;\n",
              "      flex-wrap:wrap;\n",
              "      gap: 12px;\n",
              "    }\n",
              "\n",
              "    .colab-df-convert {\n",
              "      background-color: #E8F0FE;\n",
              "      border: none;\n",
              "      border-radius: 50%;\n",
              "      cursor: pointer;\n",
              "      display: none;\n",
              "      fill: #1967D2;\n",
              "      height: 32px;\n",
              "      padding: 0 0 0 0;\n",
              "      width: 32px;\n",
              "    }\n",
              "\n",
              "    .colab-df-convert:hover {\n",
              "      background-color: #E2EBFA;\n",
              "      box-shadow: 0px 1px 2px rgba(60, 64, 67, 0.3), 0px 1px 3px 1px rgba(60, 64, 67, 0.15);\n",
              "      fill: #174EA6;\n",
              "    }\n",
              "\n",
              "    [theme=dark] .colab-df-convert {\n",
              "      background-color: #3B4455;\n",
              "      fill: #D2E3FC;\n",
              "    }\n",
              "\n",
              "    [theme=dark] .colab-df-convert:hover {\n",
              "      background-color: #434B5C;\n",
              "      box-shadow: 0px 1px 3px 1px rgba(0, 0, 0, 0.15);\n",
              "      filter: drop-shadow(0px 1px 2px rgba(0, 0, 0, 0.3));\n",
              "      fill: #FFFFFF;\n",
              "    }\n",
              "  </style>\n",
              "\n",
              "      <script>\n",
              "        const buttonEl =\n",
              "          document.querySelector('#df-e178f8b8-635a-439e-bc53-744aba1f6b73 button.colab-df-convert');\n",
              "        buttonEl.style.display =\n",
              "          google.colab.kernel.accessAllowed ? 'block' : 'none';\n",
              "\n",
              "        async function convertToInteractive(key) {\n",
              "          const element = document.querySelector('#df-e178f8b8-635a-439e-bc53-744aba1f6b73');\n",
              "          const dataTable =\n",
              "            await google.colab.kernel.invokeFunction('convertToInteractive',\n",
              "                                                     [key], {});\n",
              "          if (!dataTable) return;\n",
              "\n",
              "          const docLinkHtml = 'Like what you see? Visit the ' +\n",
              "            '<a target=\"_blank\" href=https://colab.research.google.com/notebooks/data_table.ipynb>data table notebook</a>'\n",
              "            + ' to learn more about interactive tables.';\n",
              "          element.innerHTML = '';\n",
              "          dataTable['output_type'] = 'display_data';\n",
              "          await google.colab.output.renderOutput(dataTable, element);\n",
              "          const docLink = document.createElement('div');\n",
              "          docLink.innerHTML = docLinkHtml;\n",
              "          element.appendChild(docLink);\n",
              "        }\n",
              "      </script>\n",
              "    </div>\n",
              "  </div>\n",
              "  "
            ]
          },
          "metadata": {},
          "execution_count": 212
        }
      ],
      "source": [
        "gender_constant = []\n",
        "for value in df[\"sex\"]:\n",
        "    if value == \"Female\":\n",
        "        gender_constant.append(0.55)\n",
        "    else:\n",
        "        gender_constant.append(0.68)\n",
        "df[\"gender_constant\"] = gender_constant\n",
        "df"
      ]
    },
    {
      "cell_type": "markdown",
      "metadata": {
        "id": "HTsV6FGQbFzL"
      },
      "source": [
        "<h1>Create a Test Set</h1>"
      ]
    },
    {
      "cell_type": "code",
      "execution_count": 213,
      "metadata": {
        "id": "Ogu6LlcVbFzL"
      },
      "outputs": [],
      "source": [
        "# Split off the test set: 20% of the dataset.\n",
        "dev_df, test_df = train_test_split(df, train_size=0.8, stratify=df[\"over_limit\"], random_state=2)"
      ]
    },
    {
      "cell_type": "code",
      "execution_count": 214,
      "metadata": {
        "id": "nlgbZG2tbFzL"
      },
      "outputs": [],
      "source": [
        "# Extract the features but leave as a DataFrame\n",
        "dev_X = dev_df[features]\n",
        "test_X = test_df[features]\n",
        "\n",
        "# Target values, encoded and converted to a 1D numpy array\n",
        "label_encoder = LabelEncoder()\n",
        "label_encoder.fit(df[\"over_limit\"])\n",
        "dev_y = label_encoder.transform(dev_df[\"over_limit\"])\n",
        "test_y = label_encoder.transform(test_df[\"over_limit\"])"
      ]
    },
    {
      "cell_type": "markdown",
      "metadata": {
        "id": "GfIGr-o-bFzN"
      },
      "source": [
        "<h1>Dataset Exploration</h1>"
      ]
    },
    {
      "cell_type": "code",
      "execution_count": 215,
      "metadata": {
        "id": "DNHjS09CbFzN"
      },
      "outputs": [],
      "source": [
        "# It can be good to do this on a copy of the dataset (excluding the test set, of course)\n",
        "copy_df = dev_df.copy()"
      ]
    },
    {
      "cell_type": "code",
      "execution_count": 216,
      "metadata": {
        "id": "xibvrNsSbFzN",
        "outputId": "91252f19-8d02-47a9-fb3f-95502e110865",
        "colab": {
          "base_uri": "https://localhost:8080/",
          "height": 369
        }
      },
      "outputs": [
        {
          "output_type": "display_data",
          "data": {
            "text/plain": [
              "<Figure size 417.25x360 with 1 Axes>"
            ],
            "image/png": "[encoded data removed]"
          },
          "metadata": {
            "needs_background": "light"
          }
        }
      ],
      "source": [
        "plot = lmplot(x=\"units\", y=\"weight_kg\", hue=\"over_limit\", data=copy_df, fit_reg=False) "
      ]
    },
    {
      "cell_type": "code",
      "execution_count": 217,
      "metadata": {
        "id": "RIluNRN2bFzN",
        "outputId": "606d1539-0084-42c6-ebfb-3df474700967",
        "colab": {
          "base_uri": "https://localhost:8080/",
          "height": 280
        }
      },
      "outputs": [
        {
          "output_type": "display_data",
          "data": {
            "text/plain": [
              "<Figure size 432x288 with 1 Axes>"
            ],
            "image/png": "[encoded data removed]"
          },
          "metadata": {
            "needs_background": "light"
          }
        }
      ],
      "source": [
        "plot = stripplot(x=\"over_limit\", y=\"elapsed_mins\", data=copy_df, jitter=0.2)\n",
        "# This one only works properly if you've done some preprocessing earlier!"
      ]
    },
    {
      "cell_type": "markdown",
      "metadata": {
        "id": "oTqKQFscbFzO"
      },
      "source": [
        "<p>\n",
        "    It's your job to think about feature engineering. \n",
        "</p>"
      ]
    },
    {
      "cell_type": "code",
      "execution_count": 218,
      "metadata": {
        "id": "KKV8UhribFzO",
        "outputId": "1d45aeaa-78b0-45ff-99c9-0d4b22c43f7e",
        "colab": {
          "base_uri": "https://localhost:8080/",
          "height": 886
        }
      },
      "outputs": [
        {
          "output_type": "display_data",
          "data": {
            "text/plain": [
              "<Figure size 1080x1080 with 49 Axes>"
            ],
            "image/png": "[encoded data removed]"
          },
          "metadata": {
            "needs_background": "light"
          }
        }
      ],
      "source": [
        "m = scatter_matrix(copy_df, figsize=(15, 15))"
      ]
    },
    {
      "cell_type": "code",
      "execution_count": 219,
      "metadata": {
        "id": "h8ZXBbpdbFzO",
        "outputId": "92938f5b-a81b-4c32-c9e3-4002c9d4dda9",
        "colab": {
          "base_uri": "https://localhost:8080/",
          "height": 360
        }
      },
      "outputs": [
        {
          "output_type": "execute_result",
          "data": {
            "text/plain": [
              "<matplotlib.axes._subplots.AxesSubplot at 0x7f06b6c14f50>"
            ]
          },
          "metadata": {},
          "execution_count": 219
        },
        {
          "output_type": "display_data",
          "data": {
            "text/plain": [
              "<Figure size 432x288 with 2 Axes>"
            ],
            "image/png": "[encoded data removed]"
          },
          "metadata": {
            "needs_background": "light"
          }
        }
      ],
      "source": [
        "heatmap(copy_df.corr(), annot=True)"
      ]
    },
    {
      "cell_type": "code",
      "execution_count": 220,
      "metadata": {
        "id": "Jo2k928SbFzO"
      },
      "outputs": [],
      "source": [
        "copy_df[\"uwr\"] = copy_df[\"units\"] / (copy_df[\"weight_kg\"] * copy_df[\"gender_constant\"])"
      ]
    },
    {
      "cell_type": "code",
      "execution_count": 221,
      "metadata": {
        "id": "JJW6lzGtbFzP",
        "outputId": "2f698a71-afbc-48ef-a80f-6bb0ee967e1c",
        "colab": {
          "base_uri": "https://localhost:8080/",
          "height": 279
        }
      },
      "outputs": [
        {
          "output_type": "display_data",
          "data": {
            "text/plain": [
              "<Figure size 432x288 with 1 Axes>"
            ],
            "image/png": "[encoded data removed]"
          },
          "metadata": {
            "needs_background": "light"
          }
        }
      ],
      "source": [
        "plot = scatterplot(x=\"uwr\", y=\"over_limit\", data=copy_df)"
      ]
    },
    {
      "cell_type": "code",
      "execution_count": 222,
      "metadata": {
        "id": "V-o5nL8sbFzP"
      },
      "outputs": [],
      "source": [
        "copy_df[\"drinking_speed\"] = copy_df[\"units\"] / copy_df[\"duration_mins\"]"
      ]
    },
    {
      "cell_type": "code",
      "execution_count": 223,
      "metadata": {
        "id": "l_hsEUcXbFzQ",
        "outputId": "f2fc8feb-a447-4178-b8b5-31041dfe17af",
        "colab": {
          "base_uri": "https://localhost:8080/",
          "height": 280
        }
      },
      "outputs": [
        {
          "output_type": "display_data",
          "data": {
            "text/plain": [
              "<Figure size 432x288 with 1 Axes>"
            ],
            "image/png": "[encoded data removed]"
          },
          "metadata": {
            "needs_background": "light"
          }
        }
      ],
      "source": [
        "plot = scatterplot(x=\"drinking_speed\", y=\"over_limit\", data=copy_df)"
      ]
    },
    {
      "cell_type": "code",
      "execution_count": 224,
      "metadata": {
        "id": "HA2KpGjFbFzQ"
      },
      "outputs": [],
      "source": [
        "copy_df[\"units_elapsed\"] = copy_df[\"units\"] * copy_df[\"duration_mins\"] - 0.015 * copy_df[\"elapsed_mins\"]\n",
        "for value in copy_df[\"units_elapsed\"]:\n",
        "    if value < 0:\n",
        "        copy_df[\"units_elapsed\"] = copy_df[\"units_elapsed\"].replace([value], 0)"
      ]
    },
    {
      "cell_type": "code",
      "execution_count": 225,
      "metadata": {
        "id": "zJFvJ5V_bFzQ",
        "outputId": "102bae4a-0e95-4dd0-d3b5-18b9f9d5cde6",
        "colab": {
          "base_uri": "https://localhost:8080/",
          "height": 280
        }
      },
      "outputs": [
        {
          "output_type": "display_data",
          "data": {
            "text/plain": [
              "<Figure size 432x288 with 1 Axes>"
            ],
            "image/png": "[encoded data removed]"
          },
          "metadata": {
            "needs_background": "light"
          }
        }
      ],
      "source": [
        "plot = scatterplot(x=\"units_elapsed\", y=\"over_limit\", data=copy_df)"
      ]
    },
    {
      "cell_type": "code",
      "source": [
        "copy_df[\"der\"] = copy_df[\"duration_mins\"] - copy_df[\"elapsed_mins\"]"
      ],
      "metadata": {
        "id": "68eKYyBkjX8k"
      },
      "execution_count": 226,
      "outputs": []
    },
    {
      "cell_type": "code",
      "source": [
        "plot = scatterplot(x=\"der\", y=\"over_limit\", data=copy_df)"
      ],
      "metadata": {
        "id": "HU0uFi61jl4w",
        "outputId": "c40e3b6e-7b04-4560-f083-57e5763d5670",
        "colab": {
          "base_uri": "https://localhost:8080/",
          "height": 279
        }
      },
      "execution_count": 227,
      "outputs": [
        {
          "output_type": "display_data",
          "data": {
            "text/plain": [
              "<Figure size 432x288 with 1 Axes>"
            ],
            "image/png": "[encoded data removed]"
          },
          "metadata": {
            "needs_background": "light"
          }
        }
      ]
    },
    {
      "cell_type": "code",
      "source": [
        "copy_df[\"bmi\"] = copy_df[\"weight_kg\"] / (copy_df[\"height_cm\"] * copy_df[\"height_cm\"])"
      ],
      "metadata": {
        "id": "IAnSXOwHtJa1"
      },
      "execution_count": 228,
      "outputs": []
    },
    {
      "cell_type": "code",
      "source": [
        "plot = scatterplot(x=\"bmi\", y=\"over_limit\", data=copy_df)"
      ],
      "metadata": {
        "id": "yj80WUT7tZxr",
        "outputId": "26312004-703e-42dc-e129-34dcb2605ef9",
        "colab": {
          "base_uri": "https://localhost:8080/",
          "height": 279
        }
      },
      "execution_count": 229,
      "outputs": [
        {
          "output_type": "display_data",
          "data": {
            "text/plain": [
              "<Figure size 432x288 with 1 Axes>"
            ],
            "image/png": "[encoded data removed]"
          },
          "metadata": {
            "needs_background": "light"
          }
        }
      ]
    },
    {
      "cell_type": "code",
      "source": [
        "class InsertBMI(BaseEstimator, TransformerMixin):\n",
        "\n",
        "    def __init__(self, insert=True):\n",
        "        self.insert = insert\n",
        "        \n",
        "    def fit(self, X, y=None):\n",
        "        return self\n",
        "    \n",
        "    def transform(self, X, y=None):\n",
        "        if self.insert:\n",
        "            X[\"bmi\"] = X[\"weight_kg\"] / (X[\"height_cm\"] * X[\"height_cm\"])\n",
        "            X = X.replace( [ np.inf, -np.inf ], np.nan )\n",
        "        return X"
      ],
      "metadata": {
        "id": "4LNrmDl_iXU6"
      },
      "execution_count": 230,
      "outputs": []
    },
    {
      "cell_type": "code",
      "execution_count": 231,
      "metadata": {
        "id": "YljulMShbFzR"
      },
      "outputs": [],
      "source": [
        "class InsertUWR(BaseEstimator, TransformerMixin):\n",
        "\n",
        "    def __init__(self, insert=True):\n",
        "        self.insert = insert\n",
        "        \n",
        "    def fit(self, X, y=None):\n",
        "        return self\n",
        "    \n",
        "    def transform(self, X, y=None):\n",
        "        if self.insert:\n",
        "            X[\"uwr\"] = X[\"units\"] / (X[\"weight_kg\"] * X[\"gender_constant\"])\n",
        "            X = X.replace( [ np.inf, -np.inf ], np.nan )\n",
        "        return X"
      ]
    },
    {
      "cell_type": "code",
      "execution_count": 232,
      "metadata": {
        "id": "IVPN9SfHbFzR"
      },
      "outputs": [],
      "source": [
        "class InsertUnitsElapsed(BaseEstimator, TransformerMixin):\n",
        "\n",
        "    def __init__(self, insert=True):\n",
        "        self.insert = insert\n",
        "        \n",
        "    def fit(self, X, y=None):\n",
        "        return self\n",
        "    \n",
        "    def transform(self, X, y=None):\n",
        "        if self.insert:\n",
        "            X[\"units_elapsed\"] = X[\"units\"] - 0.015 * X[\"elapsed_mins\"]\n",
        "            for value in X[\"units_elapsed\"]:\n",
        "                if value < 0:\n",
        "                    X[\"units_elapsed\"] = X[\"units_elapsed\"].replace([value], 0)\n",
        "    \n",
        "            X = X.replace( [ np.inf, -np.inf ], np.nan )\n",
        "        return X"
      ]
    },
    {
      "cell_type": "code",
      "execution_count": 233,
      "metadata": {
        "id": "U0LWQ8AsbFzR"
      },
      "outputs": [],
      "source": [
        "preprocessor = ColumnTransformer([\n",
        "        (\"num\", Pipeline([(\"uwr\", InsertUWR()),\n",
        "                          (\"bmi\", InsertBMI()),\n",
        "                          # (\"units_elapsed\", InsertUnitsElapsed()),\n",
        "                        (\"imputer\", SimpleImputer(missing_values=np.nan, strategy=\"mean\")),\n",
        "                        (\"scaler\", StandardScaler())]), numeric_features),\n",
        "        (\"nom\", Pipeline([(\"imputer\", SimpleImputer(missing_values=np.nan, strategy=\"most_frequent\")),\n",
        "                        (\"binarizer\", OneHotEncoder(handle_unknown=\"ignore\"))]), nominal_features)],\n",
        "        remainder=\"passthrough\")"
      ]
    },
    {
      "cell_type": "markdown",
      "metadata": {
        "id": "ZpXXNnuIbFzR"
      },
      "source": [
        "<h1>Model Selection</h1>"
      ]
    },
    {
      "cell_type": "markdown",
      "metadata": {
        "id": "7214LLUhbFzS"
      },
      "source": [
        "<p>\n",
        "    It's your job to create any classes to insert new features.\n",
        "</p>\n",
        "<p>\n",
        "    Then, write a preprocessor. You'll need to scale the numeric features. \n",
        "    And you'll need a one-hot encoder for the non-numeric features.\n",
        "</p>\n",
        "<p>\n",
        "    Then try out logistic regression and kNN. Remember to user \"accuracy\" as the evaluation function.\n",
        "</p>"
      ]
    },
    {
      "cell_type": "code",
      "execution_count": 234,
      "metadata": {
        "id": "4JGQHgFObFzS"
      },
      "outputs": [],
      "source": [
        "def build_model(model, additional_params={}):\n",
        "    model = Pipeline([\n",
        "        (\"preprocessor\", preprocessor),\n",
        "        (\"predictor\", model)])\n",
        "\n",
        "    model_param_grid = {\n",
        "        \"preprocessor__num__uwr__insert\": [True, False],\n",
        "        \"preprocessor__num__bmi__insert\": [True, False],\n",
        "        # \"preprocessor__num__units_elapsed__insert\": [True, False],\n",
        "    }\n",
        "    \n",
        "    model_param_grid.update(additional_params)\n",
        "\n",
        "    model_gs = GridSearchCV(model, model_param_grid, scoring=\"accuracy\", cv=10, refit=True)\n",
        "\n",
        "    model_gs.fit(dev_X, dev_y)\n",
        "\n",
        "    print(model_gs.best_params_, model_gs.best_score_)\n",
        "    \n",
        "    return model_gs"
      ]
    },
    {
      "cell_type": "code",
      "execution_count": 235,
      "metadata": {
        "id": "TsB3GdhkbFzS",
        "outputId": "7761640e-9648-4f7f-c761-fdbb7357ecea",
        "colab": {
          "base_uri": "https://localhost:8080/"
        }
      },
      "outputs": [
        {
          "output_type": "stream",
          "name": "stdout",
          "text": [
            "{'predictor__C': 0.5, 'preprocessor__num__bmi__insert': False, 'preprocessor__num__uwr__insert': True} 0.8099999999999999\n"
          ]
        }
      ],
      "source": [
        "logreg_gs = build_model(LogisticRegression(), {\"predictor__C\": [x for x in np.arange(0.1, 1, 0.1)]})"
      ]
    },
    {
      "cell_type": "code",
      "execution_count": 236,
      "metadata": {
        "id": "vsrQSGjUbFzT",
        "outputId": "e6de7d0c-9c17-4709-e7f1-b60751b140b9",
        "colab": {
          "base_uri": "https://localhost:8080/"
        }
      },
      "outputs": [
        {
          "output_type": "stream",
          "name": "stdout",
          "text": [
            "{'predictor__n_neighbors': 5, 'preprocessor__num__bmi__insert': True, 'preprocessor__num__uwr__insert': False} 0.8099999999999999\n"
          ]
        }
      ],
      "source": [
        "knn_gs = build_model(KNeighborsClassifier(), {\"predictor__n_neighbors\": [x for x in range(1, 11)]})"
      ]
    },
    {
      "cell_type": "markdown",
      "metadata": {
        "id": "zTjD5B7MbFzT"
      },
      "source": [
        "<h1>Evaluate on the Test Set</h1>\n",
        "<p>\n",
        "    Once you've finished tweaking and tuning, then do error estimation (in fact, accuracy estimation)\n",
        "    on the test set. Use accuracy_score from sklearn.metrics as the evaluation function.\n",
        "</p>"
      ]
    },
    {
      "cell_type": "code",
      "execution_count": 237,
      "metadata": {
        "id": "Y6LR3ns1bFzT"
      },
      "outputs": [],
      "source": [
        "from sklearn import metrics"
      ]
    },
    {
      "cell_type": "code",
      "execution_count": 238,
      "metadata": {
        "id": "p_miwuWbbFzU",
        "outputId": "0a8e8704-7b15-49a6-f84d-53aedcf8f8a4",
        "colab": {
          "base_uri": "https://localhost:8080/"
        }
      },
      "outputs": [
        {
          "output_type": "stream",
          "name": "stdout",
          "text": [
            "0.8666666666666667\n"
          ]
        }
      ],
      "source": [
        "y_pred_logreg = logreg_gs.predict(test_X)\n",
        "print(metrics.accuracy_score(test_y, y_pred_logreg))"
      ]
    },
    {
      "cell_type": "code",
      "execution_count": 239,
      "metadata": {
        "id": "slJs46ZpbFzU",
        "outputId": "f33bc368-bf70-4de2-aad1-f9b04e308eb0",
        "colab": {
          "base_uri": "https://localhost:8080/"
        }
      },
      "outputs": [
        {
          "output_type": "stream",
          "name": "stdout",
          "text": [
            "0.8666666666666667\n"
          ]
        }
      ],
      "source": [
        "y_pred_knn = knn_gs.predict(test_X)\n",
        "print(metrics.accuracy_score(test_y, y_pred_knn))"
      ]
    },
    {
      "cell_type": "code",
      "execution_count": 239,
      "metadata": {
        "id": "cySrZj7zbFzU"
      },
      "outputs": [],
      "source": []
    }
  ],
  "metadata": {
    "celltoolbar": "Slideshow",
    "kernelspec": {
      "display_name": "Python 3 (ipykernel)",
      "language": "python",
      "name": "python3"
    },
    "language_info": {
      "codemirror_mode": {
        "name": "ipython",
        "version": 3
      },
      "file_extension": ".py",
      "mimetype": "text/x-python",
      "name": "python",
      "nbconvert_exporter": "python",
      "pygments_lexer": "ipython3",
      "version": "3.8.10"
    },
    "colab": {
      "provenance": [],
      "include_colab_link": true
    }
  },
  "nbformat": 4,
  "nbformat_minor": 0
}