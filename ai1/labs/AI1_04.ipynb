{
 "cells": [
  {
   "cell_type": "markdown",
   "metadata": {
    "colab_type": "text",
    "id": "view-in-github"
   },
   "source": [
    "<a href=\"https://colab.research.google.com/github/bowei-yu/artificial_intelligence/blob/master/ai1/labs/AI1_04.ipynb\" target=\"_parent\"><img src=\"https://colab.research.google.com/assets/colab-badge.svg\" alt=\"Open In Colab\"/></a>"
   ]
  },
  {
   "cell_type": "markdown",
   "metadata": {
    "id": "wcjTLVJnFfq2"
   },
   "source": [
    "<h1>04 Linear Regression and Feature Engineering</h1>"
   ]
  },
  {
   "cell_type": "code",
   "execution_count": 1,
   "metadata": {
    "colab": {
     "base_uri": "https://localhost:8080/"
    },
    "id": "LziUj5dtFfq_",
    "outputId": "182b91fe-336f-4b20-d7cf-dfe0ac1b9cf3"
   },
   "outputs": [],
   "source": [
    "%load_ext autoreload\n",
    "%autoreload 2\n",
    "%matplotlib inline"
   ]
  },
  {
   "cell_type": "code",
   "execution_count": 2,
   "metadata": {
    "id": "_gDzV72hFfrJ"
   },
   "outputs": [],
   "source": [
    "import pandas as pd\n",
    "import numpy as np\n",
    "\n",
    "from pandas.plotting import scatter_matrix\n",
    "from seaborn import scatterplot, heatmap\n",
    "\n",
    "from sklearn.model_selection import train_test_split\n",
    "\n",
    "from sklearn.compose import ColumnTransformer\n",
    "from sklearn.pipeline import Pipeline\n",
    "\n",
    "from sklearn.preprocessing import StandardScaler\n",
    "\n",
    "from sklearn.impute import SimpleImputer\n",
    "\n",
    "from sklearn.base import BaseEstimator, TransformerMixin\n",
    "\n",
    "from sklearn.linear_model import LinearRegression\n",
    "from sklearn.neighbors import KNeighborsRegressor\n",
    "\n",
    "from sklearn.model_selection import GridSearchCV\n",
    "\n",
    "from sklearn.metrics import mean_absolute_error"
   ]
  },
  {
   "cell_type": "markdown",
   "metadata": {
    "id": "j6WTUuHDFfrR"
   },
   "source": [
    "<h1>Introductory Remarks</h1>\n",
    "<ul>\n",
    "    <li>We're going to predict the strength of concrete again.</li>\n",
    "    <li>But we'll do model selection as well as error estimation.</li>\n",
    "    <li>And in the model selection, we'll try feature engineering.</li>\n",
    " </ul>"
   ]
  },
  {
   "cell_type": "markdown",
   "metadata": {
    "id": "PSFR-4auFfrU"
   },
   "source": [
    "<h1>Read in and Check the Data</h1>"
   ]
  },
  {
   "cell_type": "code",
   "execution_count": 3,
   "metadata": {
    "id": "HQ089NGcFfrW"
   },
   "outputs": [],
   "source": [
    "# Use pandas to read the CSV file into a DataFrame\n",
    "df = pd.read_csv(\"../datasets/dataset_concrete.csv\")\n",
    "\n",
    "# Shuffle the dataset\n",
    "df = df.sample(frac=1, random_state=2)\n",
    "df.reset_index(drop=True, inplace=True)"
   ]
  },
  {
   "cell_type": "code",
   "execution_count": 4,
   "metadata": {
    "colab": {
     "base_uri": "https://localhost:8080/"
    },
    "id": "rInHTcxxFfrZ",
    "outputId": "acf30927-67af-4f5a-d539-78555f425ba3"
   },
   "outputs": [
    {
     "data": {
      "text/plain": [
       "(1030, 9)"
      ]
     },
     "execution_count": 4,
     "metadata": {},
     "output_type": "execute_result"
    }
   ],
   "source": [
    "# The dimensions\n",
    "df.shape"
   ]
  },
  {
   "cell_type": "code",
   "execution_count": 5,
   "metadata": {
    "colab": {
     "base_uri": "https://localhost:8080/"
    },
    "id": "BgwdZOwaFfrb",
    "outputId": "19388534-f1de-4552-aba9-0bbb56ca181c"
   },
   "outputs": [
    {
     "data": {
      "text/plain": [
       "Index(['cement', 'slag', 'fly_ash', 'water', 'superplasticizer',\n",
       "       'coarse_aggregate', 'fine_aggregate', 'age', 'strength'],\n",
       "      dtype='object')"
      ]
     },
     "execution_count": 5,
     "metadata": {},
     "output_type": "execute_result"
    }
   ],
   "source": [
    "# The columns\n",
    "df.columns"
   ]
  },
  {
   "cell_type": "code",
   "execution_count": 6,
   "metadata": {
    "colab": {
     "base_uri": "https://localhost:8080/"
    },
    "id": "Zh3T3didFfrh",
    "outputId": "999b2fe2-3b6a-4e3a-aedc-ace2f651433b"
   },
   "outputs": [
    {
     "data": {
      "text/plain": [
       "cement              float64\n",
       "slag                float64\n",
       "fly_ash             float64\n",
       "water               float64\n",
       "superplasticizer    float64\n",
       "coarse_aggregate    float64\n",
       "fine_aggregate      float64\n",
       "age                   int64\n",
       "strength            float64\n",
       "dtype: object"
      ]
     },
     "execution_count": 6,
     "metadata": {},
     "output_type": "execute_result"
    }
   ],
   "source": [
    "# The datatypes\n",
    "df.dtypes"
   ]
  },
  {
   "cell_type": "code",
   "execution_count": 7,
   "metadata": {
    "colab": {
     "base_uri": "https://localhost:8080/",
     "height": 206
    },
    "id": "NTFSJ2k6Ffrl",
    "outputId": "b8b18d37-0520-4e03-8420-66239fc0a3f5"
   },
   "outputs": [
    {
     "data": {
      "text/html": [
       "<div>\n",
       "<style scoped>\n",
       "    .dataframe tbody tr th:only-of-type {\n",
       "        vertical-align: middle;\n",
       "    }\n",
       "\n",
       "    .dataframe tbody tr th {\n",
       "        vertical-align: top;\n",
       "    }\n",
       "\n",
       "    .dataframe thead th {\n",
       "        text-align: right;\n",
       "    }\n",
       "</style>\n",
       "<table border=\"1\" class=\"dataframe\">\n",
       "  <thead>\n",
       "    <tr style=\"text-align: right;\">\n",
       "      <th></th>\n",
       "      <th>cement</th>\n",
       "      <th>slag</th>\n",
       "      <th>fly_ash</th>\n",
       "      <th>water</th>\n",
       "      <th>superplasticizer</th>\n",
       "      <th>coarse_aggregate</th>\n",
       "      <th>fine_aggregate</th>\n",
       "      <th>age</th>\n",
       "      <th>strength</th>\n",
       "    </tr>\n",
       "  </thead>\n",
       "  <tbody>\n",
       "    <tr>\n",
       "      <th>0</th>\n",
       "      <td>194.7</td>\n",
       "      <td>0.0</td>\n",
       "      <td>100.5</td>\n",
       "      <td>170.2</td>\n",
       "      <td>7.5</td>\n",
       "      <td>998.0</td>\n",
       "      <td>901.8</td>\n",
       "      <td>56</td>\n",
       "      <td>43.39</td>\n",
       "    </tr>\n",
       "    <tr>\n",
       "      <th>1</th>\n",
       "      <td>153.6</td>\n",
       "      <td>144.2</td>\n",
       "      <td>112.3</td>\n",
       "      <td>220.1</td>\n",
       "      <td>10.1</td>\n",
       "      <td>923.2</td>\n",
       "      <td>657.9</td>\n",
       "      <td>28</td>\n",
       "      <td>16.50</td>\n",
       "    </tr>\n",
       "    <tr>\n",
       "      <th>2</th>\n",
       "      <td>252.0</td>\n",
       "      <td>0.0</td>\n",
       "      <td>0.0</td>\n",
       "      <td>185.0</td>\n",
       "      <td>0.0</td>\n",
       "      <td>1111.0</td>\n",
       "      <td>784.0</td>\n",
       "      <td>28</td>\n",
       "      <td>19.69</td>\n",
       "    </tr>\n",
       "    <tr>\n",
       "      <th>3</th>\n",
       "      <td>181.9</td>\n",
       "      <td>272.8</td>\n",
       "      <td>0.0</td>\n",
       "      <td>185.7</td>\n",
       "      <td>0.0</td>\n",
       "      <td>1012.4</td>\n",
       "      <td>714.3</td>\n",
       "      <td>7</td>\n",
       "      <td>12.37</td>\n",
       "    </tr>\n",
       "    <tr>\n",
       "      <th>4</th>\n",
       "      <td>333.0</td>\n",
       "      <td>0.0</td>\n",
       "      <td>0.0</td>\n",
       "      <td>192.0</td>\n",
       "      <td>0.0</td>\n",
       "      <td>931.2</td>\n",
       "      <td>842.6</td>\n",
       "      <td>90</td>\n",
       "      <td>41.68</td>\n",
       "    </tr>\n",
       "  </tbody>\n",
       "</table>\n",
       "</div>"
      ],
      "text/plain": [
       "   cement   slag  fly_ash  water  superplasticizer  coarse_aggregate  \\\n",
       "0   194.7    0.0    100.5  170.2               7.5             998.0   \n",
       "1   153.6  144.2    112.3  220.1              10.1             923.2   \n",
       "2   252.0    0.0      0.0  185.0               0.0            1111.0   \n",
       "3   181.9  272.8      0.0  185.7               0.0            1012.4   \n",
       "4   333.0    0.0      0.0  192.0               0.0             931.2   \n",
       "\n",
       "   fine_aggregate  age  strength  \n",
       "0           901.8   56     43.39  \n",
       "1           657.9   28     16.50  \n",
       "2           784.0   28     19.69  \n",
       "3           714.3    7     12.37  \n",
       "4           842.6   90     41.68  "
      ]
     },
     "execution_count": 7,
     "metadata": {},
     "output_type": "execute_result"
    }
   ],
   "source": [
    "# Maybe have a look at a few rows\n",
    "df.head()"
   ]
  },
  {
   "cell_type": "code",
   "execution_count": 8,
   "metadata": {
    "colab": {
     "base_uri": "https://localhost:8080/",
     "height": 300
    },
    "id": "QhnvP2AbFfro",
    "outputId": "850260c3-c09a-46dd-fcab-c4ed8c3ca13f"
   },
   "outputs": [
    {
     "data": {
      "text/html": [
       "<div>\n",
       "<style scoped>\n",
       "    .dataframe tbody tr th:only-of-type {\n",
       "        vertical-align: middle;\n",
       "    }\n",
       "\n",
       "    .dataframe tbody tr th {\n",
       "        vertical-align: top;\n",
       "    }\n",
       "\n",
       "    .dataframe thead th {\n",
       "        text-align: right;\n",
       "    }\n",
       "</style>\n",
       "<table border=\"1\" class=\"dataframe\">\n",
       "  <thead>\n",
       "    <tr style=\"text-align: right;\">\n",
       "      <th></th>\n",
       "      <th>cement</th>\n",
       "      <th>slag</th>\n",
       "      <th>fly_ash</th>\n",
       "      <th>water</th>\n",
       "      <th>superplasticizer</th>\n",
       "      <th>coarse_aggregate</th>\n",
       "      <th>fine_aggregate</th>\n",
       "      <th>age</th>\n",
       "      <th>strength</th>\n",
       "    </tr>\n",
       "  </thead>\n",
       "  <tbody>\n",
       "    <tr>\n",
       "      <th>count</th>\n",
       "      <td>1030.000000</td>\n",
       "      <td>1030.000000</td>\n",
       "      <td>1030.000000</td>\n",
       "      <td>1030.000000</td>\n",
       "      <td>1030.000000</td>\n",
       "      <td>1030.000000</td>\n",
       "      <td>1030.000000</td>\n",
       "      <td>1030.000000</td>\n",
       "      <td>1030.000000</td>\n",
       "    </tr>\n",
       "    <tr>\n",
       "      <th>mean</th>\n",
       "      <td>281.167864</td>\n",
       "      <td>73.895825</td>\n",
       "      <td>54.188350</td>\n",
       "      <td>181.567282</td>\n",
       "      <td>6.204660</td>\n",
       "      <td>972.918932</td>\n",
       "      <td>773.580485</td>\n",
       "      <td>45.662136</td>\n",
       "      <td>35.817961</td>\n",
       "    </tr>\n",
       "    <tr>\n",
       "      <th>std</th>\n",
       "      <td>104.506364</td>\n",
       "      <td>86.279342</td>\n",
       "      <td>63.997004</td>\n",
       "      <td>21.354219</td>\n",
       "      <td>5.973841</td>\n",
       "      <td>77.753954</td>\n",
       "      <td>80.175980</td>\n",
       "      <td>63.169912</td>\n",
       "      <td>16.705742</td>\n",
       "    </tr>\n",
       "    <tr>\n",
       "      <th>min</th>\n",
       "      <td>102.000000</td>\n",
       "      <td>0.000000</td>\n",
       "      <td>0.000000</td>\n",
       "      <td>121.800000</td>\n",
       "      <td>0.000000</td>\n",
       "      <td>801.000000</td>\n",
       "      <td>594.000000</td>\n",
       "      <td>1.000000</td>\n",
       "      <td>2.330000</td>\n",
       "    </tr>\n",
       "    <tr>\n",
       "      <th>25%</th>\n",
       "      <td>192.375000</td>\n",
       "      <td>0.000000</td>\n",
       "      <td>0.000000</td>\n",
       "      <td>164.900000</td>\n",
       "      <td>0.000000</td>\n",
       "      <td>932.000000</td>\n",
       "      <td>730.950000</td>\n",
       "      <td>7.000000</td>\n",
       "      <td>23.710000</td>\n",
       "    </tr>\n",
       "    <tr>\n",
       "      <th>50%</th>\n",
       "      <td>272.900000</td>\n",
       "      <td>22.000000</td>\n",
       "      <td>0.000000</td>\n",
       "      <td>185.000000</td>\n",
       "      <td>6.400000</td>\n",
       "      <td>968.000000</td>\n",
       "      <td>779.500000</td>\n",
       "      <td>28.000000</td>\n",
       "      <td>34.445000</td>\n",
       "    </tr>\n",
       "    <tr>\n",
       "      <th>75%</th>\n",
       "      <td>350.000000</td>\n",
       "      <td>142.950000</td>\n",
       "      <td>118.300000</td>\n",
       "      <td>192.000000</td>\n",
       "      <td>10.200000</td>\n",
       "      <td>1029.400000</td>\n",
       "      <td>824.000000</td>\n",
       "      <td>56.000000</td>\n",
       "      <td>46.135000</td>\n",
       "    </tr>\n",
       "    <tr>\n",
       "      <th>max</th>\n",
       "      <td>540.000000</td>\n",
       "      <td>359.400000</td>\n",
       "      <td>200.100000</td>\n",
       "      <td>247.000000</td>\n",
       "      <td>32.200000</td>\n",
       "      <td>1145.000000</td>\n",
       "      <td>992.600000</td>\n",
       "      <td>365.000000</td>\n",
       "      <td>82.600000</td>\n",
       "    </tr>\n",
       "  </tbody>\n",
       "</table>\n",
       "</div>"
      ],
      "text/plain": [
       "            cement         slag      fly_ash        water  superplasticizer  \\\n",
       "count  1030.000000  1030.000000  1030.000000  1030.000000       1030.000000   \n",
       "mean    281.167864    73.895825    54.188350   181.567282          6.204660   \n",
       "std     104.506364    86.279342    63.997004    21.354219          5.973841   \n",
       "min     102.000000     0.000000     0.000000   121.800000          0.000000   \n",
       "25%     192.375000     0.000000     0.000000   164.900000          0.000000   \n",
       "50%     272.900000    22.000000     0.000000   185.000000          6.400000   \n",
       "75%     350.000000   142.950000   118.300000   192.000000         10.200000   \n",
       "max     540.000000   359.400000   200.100000   247.000000         32.200000   \n",
       "\n",
       "       coarse_aggregate  fine_aggregate          age     strength  \n",
       "count       1030.000000     1030.000000  1030.000000  1030.000000  \n",
       "mean         972.918932      773.580485    45.662136    35.817961  \n",
       "std           77.753954       80.175980    63.169912    16.705742  \n",
       "min          801.000000      594.000000     1.000000     2.330000  \n",
       "25%          932.000000      730.950000     7.000000    23.710000  \n",
       "50%          968.000000      779.500000    28.000000    34.445000  \n",
       "75%         1029.400000      824.000000    56.000000    46.135000  \n",
       "max         1145.000000      992.600000   365.000000    82.600000  "
      ]
     },
     "execution_count": 8,
     "metadata": {},
     "output_type": "execute_result"
    }
   ],
   "source": [
    "# Summary statistics\n",
    "df.describe(include=\"all\")"
   ]
  },
  {
   "cell_type": "code",
   "execution_count": 9,
   "metadata": {
    "id": "xSMqP1uiFfrr"
   },
   "outputs": [],
   "source": [
    "features = ['cement', 'slag', 'fly_ash', 'water', 'superplasticizer', 'coarse_aggregate', 'fine_aggregate', 'age']"
   ]
  },
  {
   "cell_type": "markdown",
   "metadata": {
    "id": "M7hwwllfFfrs"
   },
   "source": [
    "<h1>Create a Test Set</h1>"
   ]
  },
  {
   "cell_type": "code",
   "execution_count": 10,
   "metadata": {
    "id": "qXVvUXaLFfrw"
   },
   "outputs": [],
   "source": [
    "# Split off the test set: 20% of the dataset.\n",
    "dev_df, test_df = train_test_split(df, train_size=0.8, random_state=2)"
   ]
  },
  {
   "cell_type": "markdown",
   "metadata": {
    "id": "vofEdI2qFfrx"
   },
   "source": [
    "<h1>Dataset Exploration</h1>"
   ]
  },
  {
   "cell_type": "code",
   "execution_count": 11,
   "metadata": {
    "id": "-_UcccxsFfrz"
   },
   "outputs": [],
   "source": [
    "# It can be good to do this on a copy of the dataset (excluding the test set, of course)\n",
    "copy_df = dev_df.copy()"
   ]
  },
  {
   "cell_type": "code",
   "execution_count": null,
   "metadata": {
    "colab": {
     "base_uri": "https://localhost:8080/",
     "height": 888
    },
    "id": "4zITnIoEFfr0",
    "outputId": "e70ef9cc-b624-4dfe-d76d-3731996bc68e"
   },
   "outputs": [],
   "source": [
    "m = scatter_matrix(copy_df, figsize=(15, 15))"
   ]
  },
  {
   "cell_type": "markdown",
   "metadata": {
    "id": "dgaIrcUvFfr2"
   },
   "source": [
    "<ul>\n",
    "    <li>For any that look interesting, we can draw a bigger scatter plot.\n",
    "    </li>\n",
    "</ul>"
   ]
  },
  {
   "cell_type": "code",
   "execution_count": null,
   "metadata": {
    "colab": {
     "base_uri": "https://localhost:8080/",
     "height": 279
    },
    "id": "uDvSQaqXFfr4",
    "outputId": "ef1066e1-7cf9-4448-b1a2-5c3ae6a5efc2"
   },
   "outputs": [],
   "source": [
    "plot = scatterplot(x=\"cement\", y=\"strength\", data=copy_df)"
   ]
  },
  {
   "cell_type": "markdown",
   "metadata": {
    "id": "zf1aPWWAFfr5"
   },
   "source": [
    "<ul>\n",
    "    <li>We can compute correlations between numeric-valued columns.</li>\n",
    "    <li>Most common is Pearson correlation, which measures linear correlation. It value lies between +1 and −1. \n",
    "        A value of +1 is total positive linear correlation, 0 is no linear correlation, and −1 is total \n",
    "        negative linear correlation.\n",
    "    </li>\n",
    "</ul>"
   ]
  },
  {
   "cell_type": "code",
   "execution_count": null,
   "metadata": {
    "colab": {
     "base_uri": "https://localhost:8080/",
     "height": 332
    },
    "id": "RlYNW1CtFfr7",
    "outputId": "82e7ad9d-2461-4432-aa19-cb7549b0c4e1"
   },
   "outputs": [],
   "source": [
    "copy_df.corr()"
   ]
  },
  {
   "cell_type": "code",
   "execution_count": null,
   "metadata": {
    "colab": {
     "base_uri": "https://localhost:8080/",
     "height": 366
    },
    "id": "4e-ptnK1IpWc",
    "outputId": "1fc57a92-3bf7-4d5b-e7e1-85b2ecb25bd0"
   },
   "outputs": [],
   "source": [
    "heatmap(copy_df.corr(), annot=True)"
   ]
  },
  {
   "cell_type": "markdown",
   "metadata": {
    "id": "ugyDp9RoFfr8"
   },
   "source": [
    "<ul>\n",
    "    <li>We can add other features, ones that are computed from the existing features &mdash; we call this\n",
    "        <b>feature engineering</b>. \n",
    "        <ul>\n",
    "            <li>In general, these new features might be products or ratios of existing features.</li>\n",
    "            <li>Or they might result from applying functions to existing features, e.g. squaring, square rooting,\n",
    "                taking the log, &hellip;\n",
    "            </li>\n",
    "            <li>If you're going to be learning a linear model then it will not be useful to the linear model to add or subtract features or to multiply or divide by a scalar,\n",
    "                since this just gives new features that are linearly correlated with existing features.\n",
    "            </li>\n",
    "        </ul>\n",
    "        We can then produce visualizations and compute correlations to\n",
    "        see whether these new features are predictive or not.\n",
    "    </li>\n",
    "</ul>"
   ]
  },
  {
   "cell_type": "code",
   "execution_count": null,
   "metadata": {
    "id": "Y-iTMKlZFfr-"
   },
   "outputs": [],
   "source": [
    "# This is the water/cement ratio, so I'll call it wcr\n",
    "copy_df[\"wcr\"] = copy_df[\"water\"] / copy_df[\"cement\"]\n",
    "copy_df[\"acr\"] = copy_df[\"age\"] / copy_df[\"cement\"]\n",
    "\n",
    "copy_df[\"scr\"] = copy_df[\"superplasticizer\"] / copy_df[\"cement\"]\n",
    "copy_df[\"slcr\"] = copy_df[\"slag\"] / copy_df[\"cement\"]\n",
    "copy_df[\"fcr\"] = copy_df[\"fly_ash\"] / copy_df[\"cement\"]\n",
    "copy_df[\"ccr\"] = copy_df[\"coarse_aggregate\"] / copy_df[\"cement\"]\n",
    "copy_df[\"fcr\"] = copy_df[\"fine_aggregate\"] / copy_df[\"cement\"]\n",
    "copy_df[\"acr\"] = copy_df[\"age\"] / copy_df[\"cement\"]\n",
    "\n",
    "copy_df[\"dwr\"] = copy_df[\"water\"]/copy_df[\"age\"]\n",
    "copy_df[\"strong_vs_weak\"] = (copy_df[\"cement\"] + copy_df[\"slag\"] + copy_df[\"superplasticizer\"] + copy_df[\"age\"]) - (copy_df[\"fly_ash\"] + copy_df[\"water\"] + copy_df[\"fine_aggregate\"] + copy_df[\"coarse_aggregate\"])\n",
    "copy_df[\"cfr\"] = copy_df[\"cement\"]/ (copy_df[\"coarse_aggregate\"] + copy_df[\"fine_aggregate\"])\n",
    "copy_df[\"cor\"] = copy_df[\"cement\"] / (copy_df[\"slag\"] + copy_df[\"fine_aggregate\"] + copy_df[\"coarse_aggregate\"] + copy_df[\"fly_ash\"] + copy_df[\"water\"] + copy_df[\"superplasticizer\"] + copy_df[\"age\"])"
   ]
  },
  {
   "cell_type": "code",
   "execution_count": null,
   "metadata": {
    "colab": {
     "base_uri": "https://localhost:8080/",
     "height": 279
    },
    "id": "LDgD0yZhFfr_",
    "outputId": "c90620ce-2d5d-48b6-ff37-eb3df7c95193"
   },
   "outputs": [],
   "source": [
    "plot = scatterplot(x=\"wcr\", y=\"strength\", data=copy_df)"
   ]
  },
  {
   "cell_type": "code",
   "execution_count": null,
   "metadata": {},
   "outputs": [],
   "source": [
    "plot = scatterplot(x=\"strong_vs_weak\", y=\"strength\", data=copy_df)"
   ]
  },
  {
   "cell_type": "code",
   "execution_count": null,
   "metadata": {},
   "outputs": [],
   "source": [
    "plot = scatterplot(x=\"acr\", y=\"strength\", data=copy_df)"
   ]
  },
  {
   "cell_type": "code",
   "execution_count": null,
   "metadata": {
    "colab": {
     "base_uri": "https://localhost:8080/",
     "height": 279
    },
    "id": "NaGTn4WBNu2l",
    "outputId": "6c1e3d1c-146d-4e92-de99-acdb7441a32e"
   },
   "outputs": [],
   "source": [
    "plot = scatterplot(x=\"dwr\", y=\"strength\", data=copy_df)"
   ]
  },
  {
   "cell_type": "code",
   "execution_count": null,
   "metadata": {
    "colab": {
     "base_uri": "https://localhost:8080/",
     "height": 279
    },
    "id": "plaT6dcwKGYt",
    "outputId": "6e260cb4-7c68-425d-c762-957c0a93b40a"
   },
   "outputs": [],
   "source": [
    "plot = scatterplot(x=\"cfr\", y=\"strength\", data=copy_df)"
   ]
  },
  {
   "cell_type": "code",
   "execution_count": null,
   "metadata": {
    "colab": {
     "base_uri": "https://localhost:8080/",
     "height": 279
    },
    "id": "bYNFYKP_NLhy",
    "outputId": "6d799b6c-9137-410b-dbe3-a8218c5f8d75"
   },
   "outputs": [],
   "source": [
    "plot = scatterplot(x=\"cor\", y=\"strength\", data=copy_df)"
   ]
  },
  {
   "cell_type": "code",
   "execution_count": null,
   "metadata": {
    "colab": {
     "base_uri": "https://localhost:8080/",
     "height": 457
    },
    "id": "kEzF37TNFfsA",
    "outputId": "18d49b59-5b25-4306-fe0b-a4002e821902"
   },
   "outputs": [],
   "source": [
    "copy_df.corr()"
   ]
  },
  {
   "cell_type": "code",
   "execution_count": null,
   "metadata": {
    "colab": {
     "base_uri": "https://localhost:8080/",
     "height": 366
    },
    "id": "gf8Pb4_yIVkK",
    "outputId": "5ca5b530-bdb7-4cd6-8112-053ca029fab2"
   },
   "outputs": [],
   "source": [
    "heatmap(copy_df.corr(), annot=True)"
   ]
  },
  {
   "cell_type": "markdown",
   "metadata": {
    "id": "PbPYEHosFfsC"
   },
   "source": [
    "<ul>\n",
    "    <li>E.g. this new feature is quite predictive of strength, but highly correlated with cement.</li>\n",
    "</ul>"
   ]
  },
  {
   "cell_type": "markdown",
   "metadata": {
    "id": "6Y20Fgk4FfsD"
   },
   "source": [
    "<p>\n",
    "    <strong>Now, it's your turn!</strong> Think about the features; Google them perhaps. Invent new features\n",
    "    that you think. might be interesting. Draw scatter plots for strength against these new features; look\n",
    "    at correlations.\n",
    "</p>"
   ]
  },
  {
   "cell_type": "markdown",
   "metadata": {
    "id": "w_nNH9stFfsE"
   },
   "source": [
    "<h1>Model Selection</h1>"
   ]
  },
  {
   "cell_type": "markdown",
   "metadata": {
    "id": "L0vAZQrgFfsF"
   },
   "source": [
    "<p>\n",
    "    If you found any interesting features, write a class based on the one below.\n",
    "</p>"
   ]
  },
  {
   "cell_type": "code",
   "execution_count": null,
   "metadata": {
    "id": "xJmG6FjVFfsG"
   },
   "outputs": [],
   "source": [
    "class InsertWCR(BaseEstimator, TransformerMixin):\n",
    "\n",
    "    def __init__(self, insert=True):\n",
    "        self.insert = insert\n",
    "        \n",
    "    def fit(self, X, y=None):\n",
    "        return self\n",
    "    \n",
    "    def transform(self, X, y=None):\n",
    "        if self.insert:\n",
    "            X[\"wcr\"] = X[\"water\"] / X[\"cement\"]\n",
    "            \n",
    "            # If the new feature is intended to replace the existing ones, \n",
    "            # you could drop the existing ones here\n",
    "            # X.drop([\"cement\", \"water\"], axis=1)\n",
    "    \n",
    "            X = X.replace( [ np.inf, -np.inf ], np.nan )\n",
    "        return X"
   ]
  },
  {
   "cell_type": "code",
   "execution_count": null,
   "metadata": {
    "id": "FD-Pik79IKmr"
   },
   "outputs": [],
   "source": [
    "class InsertWSR(BaseEstimator, TransformerMixin):\n",
    "\n",
    "    def __init__(self, insert=True):\n",
    "        self.insert = insert\n",
    "        \n",
    "    def fit(self, X, y=None):\n",
    "        return self\n",
    "    \n",
    "    def transform(self, X, y=None):\n",
    "        if self.insert:\n",
    "            X[\"wsr\"] = X[\"water\"] / X[\"slag\"]\n",
    "            \n",
    "            # If the new feature is intended to replace the existing ones, \n",
    "            # you could drop the existing ones here\n",
    "            # X.drop([\"cement\", \"water\"], axis=1)\n",
    "    \n",
    "            X = X.replace( [ np.inf, -np.inf ], np.nan )\n",
    "        return X"
   ]
  },
  {
   "cell_type": "code",
   "execution_count": null,
   "metadata": {
    "id": "r-YKiURJSy5Y"
   },
   "outputs": [],
   "source": [
    "class InsertDWR(BaseEstimator, TransformerMixin):\n",
    "\n",
    "    def __init__(self, insert=True):\n",
    "        self.insert = insert\n",
    "        \n",
    "    def fit(self, X, y=None):\n",
    "        return self\n",
    "    \n",
    "    def transform(self, X, y=None):\n",
    "        if self.insert:\n",
    "            X[\"dwr\"] = X[\"water\"] / X[\"age\"]\n",
    "            \n",
    "            # If the new feature is intended to replace the existing ones, \n",
    "            # you could drop the existing ones here\n",
    "            # X.drop([\"cement\", \"water\"], axis=1)\n",
    "    \n",
    "            X = X.replace( [ np.inf, -np.inf ], np.nan )\n",
    "        return X"
   ]
  },
  {
   "cell_type": "code",
   "execution_count": null,
   "metadata": {
    "id": "gk8s3thSTf2-"
   },
   "outputs": [],
   "source": [
    "class InsertACR(BaseEstimator, TransformerMixin):\n",
    "\n",
    "    def __init__(self, insert=True):\n",
    "        self.insert = insert\n",
    "        \n",
    "    def fit(self, X, y=None):\n",
    "        return self\n",
    "    \n",
    "    def transform(self, X, y=None):\n",
    "        if self.insert:\n",
    "            X[\"acr\"] = X[\"age\"] / X[\"cement\"]\n",
    "            \n",
    "            # If the new feature is intended to replace the existing ones, \n",
    "            # you could drop the existing ones here\n",
    "#             X.drop([\"cement\", \"water\"], axis=1)\n",
    "    \n",
    "            X = X.replace( [ np.inf, -np.inf ], np.nan )\n",
    "        return X"
   ]
  },
  {
   "cell_type": "code",
   "execution_count": null,
   "metadata": {},
   "outputs": [],
   "source": [
    "class InsertSvsW(BaseEstimator, TransformerMixin):\n",
    "\n",
    "    def __init__(self, insert=True):\n",
    "        self.insert = insert\n",
    "        \n",
    "    def fit(self, X, y=None):\n",
    "        return self\n",
    "    \n",
    "    def transform(self, X, y=None):\n",
    "        if self.insert:\n",
    "            X[\"strong_vs_weak\"] = (X[\"cement\"] + X[\"slag\"] + X[\"superplasticizer\"] + X[\"age\"]) - (X[\"fly_ash\"] + X[\"water\"] + X[\"fine_aggregate\"] + X[\"coarse_aggregate\"])\n",
    "            \n",
    "            # If the new feature is intended to replace the existing ones, \n",
    "            # you could drop the existing ones here\n",
    "#             X.drop([\"cement\", \"water\"], axis=1)\n",
    "    \n",
    "            X = X.replace( [ np.inf, -np.inf ], np.nan )\n",
    "        return X"
   ]
  },
  {
   "cell_type": "markdown",
   "metadata": {
    "id": "VGJU3C3UFfsG"
   },
   "source": [
    "<p>\n",
    "    Now write a preprocessor like this one:\n",
    "</p>"
   ]
  },
  {
   "cell_type": "code",
   "execution_count": null,
   "metadata": {
    "id": "-Y5clQO5FfsH"
   },
   "outputs": [],
   "source": [
    "preprocessor = ColumnTransformer([\n",
    "        (\"features\", Pipeline([(\"wcr\", InsertWCR()),\n",
    "                               (\"wsr\", InsertWSR()),\n",
    "                               (\"dwr\", InsertDWR()),\n",
    "                               (\"acr\", InsertACR()),\n",
    "                               (\"strong_vs_weak\", InsertSvsW()),\n",
    "                               (\"imputer\", SimpleImputer(missing_values=np.nan, strategy=\"mean\"))]), \n",
    "                     features)],\n",
    "        remainder=\"passthrough\")"
   ]
  },
  {
   "cell_type": "code",
   "execution_count": null,
   "metadata": {
    "id": "YUa0-xVpFfsI"
   },
   "outputs": [],
   "source": [
    "# Extract the features but leave as a DataFrame\n",
    "dev_X = dev_df[features]\n",
    "test_X = test_df[features]\n",
    "\n",
    "# Target values, converted to a 1D numpy array\n",
    "dev_y = dev_df[\"strength\"].values\n",
    "test_y = test_df[\"strength\"].values"
   ]
  },
  {
   "cell_type": "code",
   "execution_count": null,
   "metadata": {
    "colab": {
     "base_uri": "https://localhost:8080/"
    },
    "id": "3XnlmjURFfsJ",
    "outputId": "a7d33847-02dd-4630-ad2d-2ff00e8b069a"
   },
   "outputs": [],
   "source": [
    "# Create a pipeline that combines the preprocessor with linear regression\n",
    "ols = Pipeline([\n",
    "    (\"preprocessor\", preprocessor),\n",
    "    (\"predictor\", LinearRegression())])\n",
    "\n",
    "# Create a dictionary of hyperparameters\n",
    "ols_param_grid = {\"preprocessor__features__wcr__insert\": [True, False], \n",
    "                  \"preprocessor__features__cor__insert\": [True, False],\n",
    "                  \"preprocessor__features__dwr__insert\": [True, False],\n",
    "                  \"preprocessor__features__acr__insert\": [True, False],\n",
    "                  \"preprocessor__features__strong_vs_weak__insert\": [True, False]}\n",
    "\n",
    "# Create the grid search object which will find the best hyperparameter values based on validation error\n",
    "ols_gs = GridSearchCV(ols, ols_param_grid, scoring=\"neg_mean_absolute_error\", cv=10, refit=True)\n",
    "\n",
    "# Run grid search by calling fit. . It will also re-train on train+validation using the best parameters.\n",
    "ols_gs.fit(dev_X, dev_y)\n",
    "\n",
    "# Let's see how well we did\n",
    "ols_gs.best_params_, ols_gs.best_score_"
   ]
  },
  {
   "cell_type": "markdown",
   "metadata": {
    "id": "pb-AZbkLFfsK"
   },
   "source": [
    "<p>\n",
    "    You can tweak and tune as much as you like!\n",
    "    Keep doing this until you find a good model.\n",
    "</p>\n",
    "<p>\n",
    "    Add an extra cell to create a pipeline that uses kNN instead of linear regression. Note that your\n",
    "    parameter grid will now need to include values for $k$. Play around with this until you find a good model.\n",
    "</p>\n",
    "<p>\n",
    "    Don't go on to the next step until told to do so.\n",
    "</p>"
   ]
  },
  {
   "cell_type": "markdown",
   "metadata": {
    "id": "rOXVQUU3FfsL"
   },
   "source": [
    "<h1>Evaluate on the Test Set</h1>\n",
    "<p>\n",
    "    Once you've finished tweaking and tuning, then, using the best model(s) we found, we can do error estimation \n",
    "    on the test set.\n",
    "</p>"
   ]
  },
  {
   "cell_type": "code",
   "execution_count": null,
   "metadata": {
    "colab": {
     "base_uri": "https://localhost:8080/"
    },
    "id": "CFhrQGp2FfsL",
    "outputId": "8d1af1e1-5768-469a-9890-a6318767eafb"
   },
   "outputs": [],
   "source": [
    "# Now test on the test set\n",
    "mean_absolute_error(test_y, ols_gs.predict(test_X))"
   ]
  },
  {
   "cell_type": "markdown",
   "metadata": {
    "id": "GzfEFrqpFfsM"
   },
   "source": [
    "<p>\n",
    "    Did anyone do better than this?\n",
    "</p>"
   ]
  },
  {
   "cell_type": "code",
   "execution_count": null,
   "metadata": {
    "id": "5Mdty3K6FfsM"
   },
   "outputs": [],
   "source": [
    "# water to slag, water / everyth else added tgt, water divided by all the dry stuff. divide by age (or get log of it to make it linear), actual ratio of making a cement,"
   ]
  }
 ],
 "metadata": {
  "celltoolbar": "Slideshow",
  "colab": {
   "include_colab_link": true,
   "provenance": []
  },
  "kernelspec": {
   "display_name": "Python 3 (ipykernel)",
   "language": "python",
   "name": "python3"
  },
  "language_info": {
   "codemirror_mode": {
    "name": "ipython",
    "version": 3
   },
   "file_extension": ".py",
   "mimetype": "text/x-python",
   "name": "python",
   "nbconvert_exporter": "python",
   "pygments_lexer": "ipython3",
   "version": "3.8.10"
  }
 },
 "nbformat": 4,
 "nbformat_minor": 1
}
